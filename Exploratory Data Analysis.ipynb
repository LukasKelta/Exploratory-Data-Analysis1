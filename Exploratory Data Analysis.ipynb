{
 "cells": [
  {
   "cell_type": "markdown",
   "metadata": {},
   "source": [
    "## Exploratory Data Analysis\n",
    "***"
   ]
  },
  {
   "cell_type": "markdown",
   "metadata": {},
   "source": [
    "**EDA** is a technique primarily used to see what data can reveal the hidden story and provides a better understanding of dataset variables and the relationships between them.\n",
    "\n",
    "Some techniques and statistical functions thata can be perform with EDA tools include:\n",
    "\n",
    "   - Clustering and dimension reduction techniques, which help create graphical \n",
    "      displays of high-dimensional data containing many variables.\n",
    "      \n",
    "   - Univariate visualization of each field in the raw dataset, with summary statistics.\n",
    "    \n",
    "   - Bivariate visualizations and summary statistics that allow you to assess \n",
    "      the relationship between each variable in the dataset and the target variable you’re looking at.\n",
    "    \n",
    "   - Multivariate visualizations, for mapping and understanding interactions between different fields in the data.\n",
    "\n",
    "***\n",
    "***\n",
    "In this notebook, I tried to cover all the EDA steps to approach any new dataset with logial explenation.\n",
    "\n",
    "\n",
    "I used four dataset: <br>\n",
    "<ol>\n",
    "<li>   Titanic dataset (taken from kaggle)</li>\n",
    "<li>   Iris dataset (inbulit dataset from seaborn library)</li>\n",
    "<li>   Flights dataset (inbulit dataset from seaborn library)</li>\n",
    "<li>   Tips dataset (inbulit dataset from seaborn library)</li>\n",
    "</ol>\n",
    "\n",
    "***\n",
    "***"
   ]
  },
  {
   "cell_type": "code",
   "execution_count": null,
   "metadata": {},
   "outputs": [],
   "source": []
  },
  {
   "cell_type": "code",
   "execution_count": 1,
   "metadata": {},
   "outputs": [],
   "source": [
    "import pandas as pd\n",
    "\n",
    "# linear Algebra\n",
    "import numpy as np\n",
    "\n",
    "# visualization library\n",
    "import seaborn as sns \n",
    "import matplotlib.pyplot as plt\n",
    "%matplotlib inline"
   ]
  },
  {
   "cell_type": "code",
   "execution_count": 2,
   "metadata": {},
   "outputs": [
    {
     "data": {
      "text/html": [
       "<div>\n",
       "<style scoped>\n",
       "    .dataframe tbody tr th:only-of-type {\n",
       "        vertical-align: middle;\n",
       "    }\n",
       "\n",
       "    .dataframe tbody tr th {\n",
       "        vertical-align: top;\n",
       "    }\n",
       "\n",
       "    .dataframe thead th {\n",
       "        text-align: right;\n",
       "    }\n",
       "</style>\n",
       "<table border=\"1\" class=\"dataframe\">\n",
       "  <thead>\n",
       "    <tr style=\"text-align: right;\">\n",
       "      <th></th>\n",
       "      <th>PassengerId</th>\n",
       "      <th>Survived</th>\n",
       "      <th>Pclass</th>\n",
       "      <th>Name</th>\n",
       "      <th>Sex</th>\n",
       "      <th>Age</th>\n",
       "      <th>SibSp</th>\n",
       "      <th>Parch</th>\n",
       "      <th>Ticket</th>\n",
       "      <th>Fare</th>\n",
       "      <th>Cabin</th>\n",
       "      <th>Embarked</th>\n",
       "    </tr>\n",
       "  </thead>\n",
       "  <tbody>\n",
       "    <tr>\n",
       "      <th>0</th>\n",
       "      <td>892</td>\n",
       "      <td>0</td>\n",
       "      <td>3</td>\n",
       "      <td>Kelly, Mr. James</td>\n",
       "      <td>male</td>\n",
       "      <td>34.5</td>\n",
       "      <td>0</td>\n",
       "      <td>0</td>\n",
       "      <td>330911</td>\n",
       "      <td>7.8292</td>\n",
       "      <td>NaN</td>\n",
       "      <td>Q</td>\n",
       "    </tr>\n",
       "    <tr>\n",
       "      <th>1</th>\n",
       "      <td>893</td>\n",
       "      <td>1</td>\n",
       "      <td>3</td>\n",
       "      <td>Wilkes, Mrs. James (Ellen Needs)</td>\n",
       "      <td>female</td>\n",
       "      <td>47.0</td>\n",
       "      <td>1</td>\n",
       "      <td>0</td>\n",
       "      <td>363272</td>\n",
       "      <td>7.0000</td>\n",
       "      <td>NaN</td>\n",
       "      <td>S</td>\n",
       "    </tr>\n",
       "    <tr>\n",
       "      <th>2</th>\n",
       "      <td>894</td>\n",
       "      <td>0</td>\n",
       "      <td>2</td>\n",
       "      <td>Myles, Mr. Thomas Francis</td>\n",
       "      <td>male</td>\n",
       "      <td>62.0</td>\n",
       "      <td>0</td>\n",
       "      <td>0</td>\n",
       "      <td>240276</td>\n",
       "      <td>9.6875</td>\n",
       "      <td>NaN</td>\n",
       "      <td>Q</td>\n",
       "    </tr>\n",
       "    <tr>\n",
       "      <th>3</th>\n",
       "      <td>895</td>\n",
       "      <td>0</td>\n",
       "      <td>3</td>\n",
       "      <td>Wirz, Mr. Albert</td>\n",
       "      <td>male</td>\n",
       "      <td>27.0</td>\n",
       "      <td>0</td>\n",
       "      <td>0</td>\n",
       "      <td>315154</td>\n",
       "      <td>8.6625</td>\n",
       "      <td>NaN</td>\n",
       "      <td>S</td>\n",
       "    </tr>\n",
       "    <tr>\n",
       "      <th>4</th>\n",
       "      <td>896</td>\n",
       "      <td>1</td>\n",
       "      <td>3</td>\n",
       "      <td>Hirvonen, Mrs. Alexander (Helga E Lindqvist)</td>\n",
       "      <td>female</td>\n",
       "      <td>22.0</td>\n",
       "      <td>1</td>\n",
       "      <td>1</td>\n",
       "      <td>3101298</td>\n",
       "      <td>12.2875</td>\n",
       "      <td>NaN</td>\n",
       "      <td>S</td>\n",
       "    </tr>\n",
       "  </tbody>\n",
       "</table>\n",
       "</div>"
      ],
      "text/plain": [
       "   PassengerId  Survived  Pclass  \\\n",
       "0          892         0       3   \n",
       "1          893         1       3   \n",
       "2          894         0       2   \n",
       "3          895         0       3   \n",
       "4          896         1       3   \n",
       "\n",
       "                                           Name     Sex   Age  SibSp  Parch  \\\n",
       "0                              Kelly, Mr. James    male  34.5      0      0   \n",
       "1              Wilkes, Mrs. James (Ellen Needs)  female  47.0      1      0   \n",
       "2                     Myles, Mr. Thomas Francis    male  62.0      0      0   \n",
       "3                              Wirz, Mr. Albert    male  27.0      0      0   \n",
       "4  Hirvonen, Mrs. Alexander (Helga E Lindqvist)  female  22.0      1      1   \n",
       "\n",
       "    Ticket     Fare Cabin Embarked  \n",
       "0   330911   7.8292   NaN        Q  \n",
       "1   363272   7.0000   NaN        S  \n",
       "2   240276   9.6875   NaN        Q  \n",
       "3   315154   8.6625   NaN        S  \n",
       "4  3101298  12.2875   NaN        S  "
      ]
     },
     "execution_count": 2,
     "metadata": {},
     "output_type": "execute_result"
    }
   ],
   "source": [
    "import pandas as pd\n",
    "\n",
    "file_path = 'C:/Users/G good/Desktop/Msc-CS/big d/Lab/Ass1/Lukas/Titanic.csv'\n",
    "df = pd.read_csv(file_path)\n",
    "df.head()"
   ]
  },
  {
   "cell_type": "code",
   "execution_count": 3,
   "metadata": {},
   "outputs": [
    {
     "data": {
      "text/html": [
       "<div>\n",
       "<style scoped>\n",
       "    .dataframe tbody tr th:only-of-type {\n",
       "        vertical-align: middle;\n",
       "    }\n",
       "\n",
       "    .dataframe tbody tr th {\n",
       "        vertical-align: top;\n",
       "    }\n",
       "\n",
       "    .dataframe thead th {\n",
       "        text-align: right;\n",
       "    }\n",
       "</style>\n",
       "<table border=\"1\" class=\"dataframe\">\n",
       "  <thead>\n",
       "    <tr style=\"text-align: right;\">\n",
       "      <th></th>\n",
       "      <th>PassengerId</th>\n",
       "      <th>Survived</th>\n",
       "      <th>Pclass</th>\n",
       "      <th>Name</th>\n",
       "      <th>Sex</th>\n",
       "      <th>Age</th>\n",
       "      <th>SibSp</th>\n",
       "      <th>Parch</th>\n",
       "      <th>Ticket</th>\n",
       "      <th>Fare</th>\n",
       "      <th>Cabin</th>\n",
       "      <th>Embarked</th>\n",
       "    </tr>\n",
       "  </thead>\n",
       "  <tbody>\n",
       "    <tr>\n",
       "      <th>351</th>\n",
       "      <td>1243</td>\n",
       "      <td>0</td>\n",
       "      <td>2</td>\n",
       "      <td>Stokes, Mr. Philip Joseph</td>\n",
       "      <td>male</td>\n",
       "      <td>25.0</td>\n",
       "      <td>0</td>\n",
       "      <td>0</td>\n",
       "      <td>F.C.C. 13540</td>\n",
       "      <td>10.5000</td>\n",
       "      <td>NaN</td>\n",
       "      <td>S</td>\n",
       "    </tr>\n",
       "    <tr>\n",
       "      <th>105</th>\n",
       "      <td>997</td>\n",
       "      <td>0</td>\n",
       "      <td>3</td>\n",
       "      <td>Holthen, Mr. Johan Martin</td>\n",
       "      <td>male</td>\n",
       "      <td>28.0</td>\n",
       "      <td>0</td>\n",
       "      <td>0</td>\n",
       "      <td>C 4001</td>\n",
       "      <td>22.5250</td>\n",
       "      <td>NaN</td>\n",
       "      <td>S</td>\n",
       "    </tr>\n",
       "    <tr>\n",
       "      <th>143</th>\n",
       "      <td>1035</td>\n",
       "      <td>0</td>\n",
       "      <td>2</td>\n",
       "      <td>Beauchamp, Mr. Henry James</td>\n",
       "      <td>male</td>\n",
       "      <td>28.0</td>\n",
       "      <td>0</td>\n",
       "      <td>0</td>\n",
       "      <td>244358</td>\n",
       "      <td>26.0000</td>\n",
       "      <td>NaN</td>\n",
       "      <td>S</td>\n",
       "    </tr>\n",
       "    <tr>\n",
       "      <th>264</th>\n",
       "      <td>1156</td>\n",
       "      <td>0</td>\n",
       "      <td>2</td>\n",
       "      <td>Portaluppi, Mr. Emilio Ilario Giuseppe</td>\n",
       "      <td>male</td>\n",
       "      <td>30.0</td>\n",
       "      <td>0</td>\n",
       "      <td>0</td>\n",
       "      <td>C.A. 34644</td>\n",
       "      <td>12.7375</td>\n",
       "      <td>NaN</td>\n",
       "      <td>C</td>\n",
       "    </tr>\n",
       "    <tr>\n",
       "      <th>330</th>\n",
       "      <td>1222</td>\n",
       "      <td>1</td>\n",
       "      <td>2</td>\n",
       "      <td>Davies, Mrs. John Morgan (Elizabeth Agnes Mary...</td>\n",
       "      <td>female</td>\n",
       "      <td>48.0</td>\n",
       "      <td>0</td>\n",
       "      <td>2</td>\n",
       "      <td>C.A. 33112</td>\n",
       "      <td>36.7500</td>\n",
       "      <td>NaN</td>\n",
       "      <td>S</td>\n",
       "    </tr>\n",
       "  </tbody>\n",
       "</table>\n",
       "</div>"
      ],
      "text/plain": [
       "     PassengerId  Survived  Pclass  \\\n",
       "351         1243         0       2   \n",
       "105          997         0       3   \n",
       "143         1035         0       2   \n",
       "264         1156         0       2   \n",
       "330         1222         1       2   \n",
       "\n",
       "                                                  Name     Sex   Age  SibSp  \\\n",
       "351                          Stokes, Mr. Philip Joseph    male  25.0      0   \n",
       "105                          Holthen, Mr. Johan Martin    male  28.0      0   \n",
       "143                         Beauchamp, Mr. Henry James    male  28.0      0   \n",
       "264             Portaluppi, Mr. Emilio Ilario Giuseppe    male  30.0      0   \n",
       "330  Davies, Mrs. John Morgan (Elizabeth Agnes Mary...  female  48.0      0   \n",
       "\n",
       "     Parch        Ticket     Fare Cabin Embarked  \n",
       "351      0  F.C.C. 13540  10.5000   NaN        S  \n",
       "105      0        C 4001  22.5250   NaN        S  \n",
       "143      0        244358  26.0000   NaN        S  \n",
       "264      0    C.A. 34644  12.7375   NaN        C  \n",
       "330      2    C.A. 33112  36.7500   NaN        S  "
      ]
     },
     "execution_count": 3,
     "metadata": {},
     "output_type": "execute_result"
    }
   ],
   "source": [
    "df.sample(5)"
   ]
  },
  {
   "cell_type": "code",
   "execution_count": 4,
   "metadata": {},
   "outputs": [
    {
     "data": {
      "text/plain": [
       "(418, 12)"
      ]
     },
     "execution_count": 4,
     "metadata": {},
     "output_type": "execute_result"
    }
   ],
   "source": [
    "df.shape"
   ]
  },
  {
   "cell_type": "code",
   "execution_count": 5,
   "metadata": {},
   "outputs": [
    {
     "name": "stdout",
     "output_type": "stream",
     "text": [
      "<class 'pandas.core.frame.DataFrame'>\n",
      "RangeIndex: 418 entries, 0 to 417\n",
      "Data columns (total 12 columns):\n",
      " #   Column       Non-Null Count  Dtype  \n",
      "---  ------       --------------  -----  \n",
      " 0   PassengerId  418 non-null    int64  \n",
      " 1   Survived     418 non-null    int64  \n",
      " 2   Pclass       418 non-null    int64  \n",
      " 3   Name         418 non-null    object \n",
      " 4   Sex          418 non-null    object \n",
      " 5   Age          332 non-null    float64\n",
      " 6   SibSp        418 non-null    int64  \n",
      " 7   Parch        418 non-null    int64  \n",
      " 8   Ticket       418 non-null    object \n",
      " 9   Fare         417 non-null    float64\n",
      " 10  Cabin        91 non-null     object \n",
      " 11  Embarked     418 non-null    object \n",
      "dtypes: float64(2), int64(5), object(5)\n",
      "memory usage: 39.3+ KB\n"
     ]
    }
   ],
   "source": [
    "df.info()"
   ]
  },
  {
   "cell_type": "code",
   "execution_count": 6,
   "metadata": {},
   "outputs": [
    {
     "data": {
      "text/plain": [
       "PassengerId      0\n",
       "Survived         0\n",
       "Pclass           0\n",
       "Name             0\n",
       "Sex              0\n",
       "Age             86\n",
       "SibSp            0\n",
       "Parch            0\n",
       "Ticket           0\n",
       "Fare             1\n",
       "Cabin          327\n",
       "Embarked         0\n",
       "dtype: int64"
      ]
     },
     "execution_count": 6,
     "metadata": {},
     "output_type": "execute_result"
    }
   ],
   "source": [
    "df.isnull().sum()"
   ]
  },
  {
   "cell_type": "code",
   "execution_count": 7,
   "metadata": {},
   "outputs": [
    {
     "data": {
      "text/plain": [
       "78.22966507177034"
      ]
     },
     "execution_count": 7,
     "metadata": {},
     "output_type": "execute_result"
    }
   ],
   "source": [
    "## there are 86 missing values in Age \n",
    "(327/418)*100\n",
    "## and 78 % missing values of cabin \n",
    "## 1 missing value of fare"
   ]
  },
  {
   "cell_type": "code",
   "execution_count": 8,
   "metadata": {},
   "outputs": [
    {
     "data": {
      "text/html": [
       "<div>\n",
       "<style scoped>\n",
       "    .dataframe tbody tr th:only-of-type {\n",
       "        vertical-align: middle;\n",
       "    }\n",
       "\n",
       "    .dataframe tbody tr th {\n",
       "        vertical-align: top;\n",
       "    }\n",
       "\n",
       "    .dataframe thead th {\n",
       "        text-align: right;\n",
       "    }\n",
       "</style>\n",
       "<table border=\"1\" class=\"dataframe\">\n",
       "  <thead>\n",
       "    <tr style=\"text-align: right;\">\n",
       "      <th></th>\n",
       "      <th>PassengerId</th>\n",
       "      <th>Survived</th>\n",
       "      <th>Pclass</th>\n",
       "      <th>Age</th>\n",
       "      <th>SibSp</th>\n",
       "      <th>Parch</th>\n",
       "      <th>Fare</th>\n",
       "    </tr>\n",
       "  </thead>\n",
       "  <tbody>\n",
       "    <tr>\n",
       "      <th>count</th>\n",
       "      <td>418.000000</td>\n",
       "      <td>418.000000</td>\n",
       "      <td>418.000000</td>\n",
       "      <td>332.000000</td>\n",
       "      <td>418.000000</td>\n",
       "      <td>418.000000</td>\n",
       "      <td>417.000000</td>\n",
       "    </tr>\n",
       "    <tr>\n",
       "      <th>mean</th>\n",
       "      <td>1100.500000</td>\n",
       "      <td>0.363636</td>\n",
       "      <td>2.265550</td>\n",
       "      <td>30.272590</td>\n",
       "      <td>0.447368</td>\n",
       "      <td>0.392344</td>\n",
       "      <td>35.627188</td>\n",
       "    </tr>\n",
       "    <tr>\n",
       "      <th>std</th>\n",
       "      <td>120.810458</td>\n",
       "      <td>0.481622</td>\n",
       "      <td>0.841838</td>\n",
       "      <td>14.181209</td>\n",
       "      <td>0.896760</td>\n",
       "      <td>0.981429</td>\n",
       "      <td>55.907576</td>\n",
       "    </tr>\n",
       "    <tr>\n",
       "      <th>min</th>\n",
       "      <td>892.000000</td>\n",
       "      <td>0.000000</td>\n",
       "      <td>1.000000</td>\n",
       "      <td>0.170000</td>\n",
       "      <td>0.000000</td>\n",
       "      <td>0.000000</td>\n",
       "      <td>0.000000</td>\n",
       "    </tr>\n",
       "    <tr>\n",
       "      <th>25%</th>\n",
       "      <td>996.250000</td>\n",
       "      <td>0.000000</td>\n",
       "      <td>1.000000</td>\n",
       "      <td>21.000000</td>\n",
       "      <td>0.000000</td>\n",
       "      <td>0.000000</td>\n",
       "      <td>7.895800</td>\n",
       "    </tr>\n",
       "    <tr>\n",
       "      <th>50%</th>\n",
       "      <td>1100.500000</td>\n",
       "      <td>0.000000</td>\n",
       "      <td>3.000000</td>\n",
       "      <td>27.000000</td>\n",
       "      <td>0.000000</td>\n",
       "      <td>0.000000</td>\n",
       "      <td>14.454200</td>\n",
       "    </tr>\n",
       "    <tr>\n",
       "      <th>75%</th>\n",
       "      <td>1204.750000</td>\n",
       "      <td>1.000000</td>\n",
       "      <td>3.000000</td>\n",
       "      <td>39.000000</td>\n",
       "      <td>1.000000</td>\n",
       "      <td>0.000000</td>\n",
       "      <td>31.500000</td>\n",
       "    </tr>\n",
       "    <tr>\n",
       "      <th>max</th>\n",
       "      <td>1309.000000</td>\n",
       "      <td>1.000000</td>\n",
       "      <td>3.000000</td>\n",
       "      <td>76.000000</td>\n",
       "      <td>8.000000</td>\n",
       "      <td>9.000000</td>\n",
       "      <td>512.329200</td>\n",
       "    </tr>\n",
       "  </tbody>\n",
       "</table>\n",
       "</div>"
      ],
      "text/plain": [
       "       PassengerId    Survived      Pclass         Age       SibSp  \\\n",
       "count   418.000000  418.000000  418.000000  332.000000  418.000000   \n",
       "mean   1100.500000    0.363636    2.265550   30.272590    0.447368   \n",
       "std     120.810458    0.481622    0.841838   14.181209    0.896760   \n",
       "min     892.000000    0.000000    1.000000    0.170000    0.000000   \n",
       "25%     996.250000    0.000000    1.000000   21.000000    0.000000   \n",
       "50%    1100.500000    0.000000    3.000000   27.000000    0.000000   \n",
       "75%    1204.750000    1.000000    3.000000   39.000000    1.000000   \n",
       "max    1309.000000    1.000000    3.000000   76.000000    8.000000   \n",
       "\n",
       "            Parch        Fare  \n",
       "count  418.000000  417.000000  \n",
       "mean     0.392344   35.627188  \n",
       "std      0.981429   55.907576  \n",
       "min      0.000000    0.000000  \n",
       "25%      0.000000    7.895800  \n",
       "50%      0.000000   14.454200  \n",
       "75%      0.000000   31.500000  \n",
       "max      9.000000  512.329200  "
      ]
     },
     "execution_count": 8,
     "metadata": {},
     "output_type": "execute_result"
    }
   ],
   "source": [
    "df.describe()  ## hear we get insights on numerical columns only "
   ]
  },
  {
   "cell_type": "code",
   "execution_count": 9,
   "metadata": {},
   "outputs": [
    {
     "data": {
      "text/html": [
       "<div>\n",
       "<style scoped>\n",
       "    .dataframe tbody tr th:only-of-type {\n",
       "        vertical-align: middle;\n",
       "    }\n",
       "\n",
       "    .dataframe tbody tr th {\n",
       "        vertical-align: top;\n",
       "    }\n",
       "\n",
       "    .dataframe thead th {\n",
       "        text-align: right;\n",
       "    }\n",
       "</style>\n",
       "<table border=\"1\" class=\"dataframe\">\n",
       "  <thead>\n",
       "    <tr style=\"text-align: right;\">\n",
       "      <th></th>\n",
       "      <th>PassengerId</th>\n",
       "      <th>Survived</th>\n",
       "      <th>Pclass</th>\n",
       "      <th>Age</th>\n",
       "      <th>SibSp</th>\n",
       "      <th>Parch</th>\n",
       "      <th>Fare</th>\n",
       "    </tr>\n",
       "  </thead>\n",
       "  <tbody>\n",
       "    <tr>\n",
       "      <th>count</th>\n",
       "      <td>418.00</td>\n",
       "      <td>418.00</td>\n",
       "      <td>418.00</td>\n",
       "      <td>332.00</td>\n",
       "      <td>418.00</td>\n",
       "      <td>418.00</td>\n",
       "      <td>417.00</td>\n",
       "    </tr>\n",
       "    <tr>\n",
       "      <th>mean</th>\n",
       "      <td>1100.50</td>\n",
       "      <td>0.36</td>\n",
       "      <td>2.27</td>\n",
       "      <td>30.27</td>\n",
       "      <td>0.45</td>\n",
       "      <td>0.39</td>\n",
       "      <td>35.63</td>\n",
       "    </tr>\n",
       "    <tr>\n",
       "      <th>std</th>\n",
       "      <td>120.81</td>\n",
       "      <td>0.48</td>\n",
       "      <td>0.84</td>\n",
       "      <td>14.18</td>\n",
       "      <td>0.90</td>\n",
       "      <td>0.98</td>\n",
       "      <td>55.91</td>\n",
       "    </tr>\n",
       "    <tr>\n",
       "      <th>min</th>\n",
       "      <td>892.00</td>\n",
       "      <td>0.00</td>\n",
       "      <td>1.00</td>\n",
       "      <td>0.17</td>\n",
       "      <td>0.00</td>\n",
       "      <td>0.00</td>\n",
       "      <td>0.00</td>\n",
       "    </tr>\n",
       "    <tr>\n",
       "      <th>25%</th>\n",
       "      <td>996.25</td>\n",
       "      <td>0.00</td>\n",
       "      <td>1.00</td>\n",
       "      <td>21.00</td>\n",
       "      <td>0.00</td>\n",
       "      <td>0.00</td>\n",
       "      <td>7.90</td>\n",
       "    </tr>\n",
       "    <tr>\n",
       "      <th>50%</th>\n",
       "      <td>1100.50</td>\n",
       "      <td>0.00</td>\n",
       "      <td>3.00</td>\n",
       "      <td>27.00</td>\n",
       "      <td>0.00</td>\n",
       "      <td>0.00</td>\n",
       "      <td>14.45</td>\n",
       "    </tr>\n",
       "    <tr>\n",
       "      <th>75%</th>\n",
       "      <td>1204.75</td>\n",
       "      <td>1.00</td>\n",
       "      <td>3.00</td>\n",
       "      <td>39.00</td>\n",
       "      <td>1.00</td>\n",
       "      <td>0.00</td>\n",
       "      <td>31.50</td>\n",
       "    </tr>\n",
       "    <tr>\n",
       "      <th>max</th>\n",
       "      <td>1309.00</td>\n",
       "      <td>1.00</td>\n",
       "      <td>3.00</td>\n",
       "      <td>76.00</td>\n",
       "      <td>8.00</td>\n",
       "      <td>9.00</td>\n",
       "      <td>512.33</td>\n",
       "    </tr>\n",
       "  </tbody>\n",
       "</table>\n",
       "</div>"
      ],
      "text/plain": [
       "       PassengerId  Survived  Pclass     Age   SibSp   Parch    Fare\n",
       "count       418.00    418.00  418.00  332.00  418.00  418.00  417.00\n",
       "mean       1100.50      0.36    2.27   30.27    0.45    0.39   35.63\n",
       "std         120.81      0.48    0.84   14.18    0.90    0.98   55.91\n",
       "min         892.00      0.00    1.00    0.17    0.00    0.00    0.00\n",
       "25%         996.25      0.00    1.00   21.00    0.00    0.00    7.90\n",
       "50%        1100.50      0.00    3.00   27.00    0.00    0.00   14.45\n",
       "75%        1204.75      1.00    3.00   39.00    1.00    0.00   31.50\n",
       "max        1309.00      1.00    3.00   76.00    8.00    9.00  512.33"
      ]
     },
     "execution_count": 9,
     "metadata": {},
     "output_type": "execute_result"
    }
   ],
   "source": [
    "## if i want every value to be rounded to 2 digit then \n",
    "np.round(df.describe(), 2)"
   ]
  },
  {
   "cell_type": "code",
   "execution_count": 10,
   "metadata": {},
   "outputs": [
    {
     "data": {
      "text/plain": [
       "count    418.00\n",
       "mean       2.27\n",
       "std        0.84\n",
       "min        1.00\n",
       "25%        1.00\n",
       "50%        3.00\n",
       "75%        3.00\n",
       "max        3.00\n",
       "Name: Pclass, dtype: float64"
      ]
     },
     "execution_count": 10,
     "metadata": {},
     "output_type": "execute_result"
    }
   ],
   "source": [
    "np.round(df.describe()['Pclass'], 2)"
   ]
  },
  {
   "cell_type": "code",
   "execution_count": 11,
   "metadata": {},
   "outputs": [
    {
     "data": {
      "text/plain": [
       "0"
      ]
     },
     "execution_count": 11,
     "metadata": {},
     "output_type": "execute_result"
    }
   ],
   "source": [
    "## cheaking if any duplicate values\n",
    "df.duplicated().sum()"
   ]
  },
  {
   "cell_type": "code",
   "execution_count": 12,
   "metadata": {},
   "outputs": [
    {
     "name": "stderr",
     "output_type": "stream",
     "text": [
      "C:\\Users\\G good\\AppData\\Local\\Temp\\ipykernel_13436\\1213907300.py:2: FutureWarning: The default value of numeric_only in DataFrame.corr is deprecated. In a future version, it will default to False. Select only valid columns or specify the value of numeric_only to silence this warning.\n",
      "  df.corr()\n"
     ]
    },
    {
     "data": {
      "text/html": [
       "<div>\n",
       "<style scoped>\n",
       "    .dataframe tbody tr th:only-of-type {\n",
       "        vertical-align: middle;\n",
       "    }\n",
       "\n",
       "    .dataframe tbody tr th {\n",
       "        vertical-align: top;\n",
       "    }\n",
       "\n",
       "    .dataframe thead th {\n",
       "        text-align: right;\n",
       "    }\n",
       "</style>\n",
       "<table border=\"1\" class=\"dataframe\">\n",
       "  <thead>\n",
       "    <tr style=\"text-align: right;\">\n",
       "      <th></th>\n",
       "      <th>PassengerId</th>\n",
       "      <th>Survived</th>\n",
       "      <th>Pclass</th>\n",
       "      <th>Age</th>\n",
       "      <th>SibSp</th>\n",
       "      <th>Parch</th>\n",
       "      <th>Fare</th>\n",
       "    </tr>\n",
       "  </thead>\n",
       "  <tbody>\n",
       "    <tr>\n",
       "      <th>PassengerId</th>\n",
       "      <td>1.000000</td>\n",
       "      <td>-0.023245</td>\n",
       "      <td>-0.026751</td>\n",
       "      <td>-0.034102</td>\n",
       "      <td>0.003818</td>\n",
       "      <td>0.043080</td>\n",
       "      <td>0.008211</td>\n",
       "    </tr>\n",
       "    <tr>\n",
       "      <th>Survived</th>\n",
       "      <td>-0.023245</td>\n",
       "      <td>1.000000</td>\n",
       "      <td>-0.108615</td>\n",
       "      <td>-0.000013</td>\n",
       "      <td>0.099943</td>\n",
       "      <td>0.159120</td>\n",
       "      <td>0.191514</td>\n",
       "    </tr>\n",
       "    <tr>\n",
       "      <th>Pclass</th>\n",
       "      <td>-0.026751</td>\n",
       "      <td>-0.108615</td>\n",
       "      <td>1.000000</td>\n",
       "      <td>-0.492143</td>\n",
       "      <td>0.001087</td>\n",
       "      <td>0.018721</td>\n",
       "      <td>-0.577147</td>\n",
       "    </tr>\n",
       "    <tr>\n",
       "      <th>Age</th>\n",
       "      <td>-0.034102</td>\n",
       "      <td>-0.000013</td>\n",
       "      <td>-0.492143</td>\n",
       "      <td>1.000000</td>\n",
       "      <td>-0.091587</td>\n",
       "      <td>-0.061249</td>\n",
       "      <td>0.337932</td>\n",
       "    </tr>\n",
       "    <tr>\n",
       "      <th>SibSp</th>\n",
       "      <td>0.003818</td>\n",
       "      <td>0.099943</td>\n",
       "      <td>0.001087</td>\n",
       "      <td>-0.091587</td>\n",
       "      <td>1.000000</td>\n",
       "      <td>0.306895</td>\n",
       "      <td>0.171539</td>\n",
       "    </tr>\n",
       "    <tr>\n",
       "      <th>Parch</th>\n",
       "      <td>0.043080</td>\n",
       "      <td>0.159120</td>\n",
       "      <td>0.018721</td>\n",
       "      <td>-0.061249</td>\n",
       "      <td>0.306895</td>\n",
       "      <td>1.000000</td>\n",
       "      <td>0.230046</td>\n",
       "    </tr>\n",
       "    <tr>\n",
       "      <th>Fare</th>\n",
       "      <td>0.008211</td>\n",
       "      <td>0.191514</td>\n",
       "      <td>-0.577147</td>\n",
       "      <td>0.337932</td>\n",
       "      <td>0.171539</td>\n",
       "      <td>0.230046</td>\n",
       "      <td>1.000000</td>\n",
       "    </tr>\n",
       "  </tbody>\n",
       "</table>\n",
       "</div>"
      ],
      "text/plain": [
       "             PassengerId  Survived    Pclass       Age     SibSp     Parch  \\\n",
       "PassengerId     1.000000 -0.023245 -0.026751 -0.034102  0.003818  0.043080   \n",
       "Survived       -0.023245  1.000000 -0.108615 -0.000013  0.099943  0.159120   \n",
       "Pclass         -0.026751 -0.108615  1.000000 -0.492143  0.001087  0.018721   \n",
       "Age            -0.034102 -0.000013 -0.492143  1.000000 -0.091587 -0.061249   \n",
       "SibSp           0.003818  0.099943  0.001087 -0.091587  1.000000  0.306895   \n",
       "Parch           0.043080  0.159120  0.018721 -0.061249  0.306895  1.000000   \n",
       "Fare            0.008211  0.191514 -0.577147  0.337932  0.171539  0.230046   \n",
       "\n",
       "                 Fare  \n",
       "PassengerId  0.008211  \n",
       "Survived     0.191514  \n",
       "Pclass      -0.577147  \n",
       "Age          0.337932  \n",
       "SibSp        0.171539  \n",
       "Parch        0.230046  \n",
       "Fare         1.000000  "
      ]
     },
     "execution_count": 12,
     "metadata": {},
     "output_type": "execute_result"
    }
   ],
   "source": [
    "## cheaking the correlation of columns \n",
    "df.corr()"
   ]
  },
  {
   "cell_type": "code",
   "execution_count": 13,
   "metadata": {},
   "outputs": [
    {
     "name": "stderr",
     "output_type": "stream",
     "text": [
      "C:\\Users\\G good\\AppData\\Local\\Temp\\ipykernel_13436\\835739483.py:4: FutureWarning: The default value of numeric_only in DataFrame.corr is deprecated. In a future version, it will default to False. Select only valid columns or specify the value of numeric_only to silence this warning.\n",
      "  np.round(df.corr()['Survived']*100, 2)\n"
     ]
    },
    {
     "data": {
      "text/plain": [
       "PassengerId     -2.32\n",
       "Survived       100.00\n",
       "Pclass         -10.86\n",
       "Age             -0.00\n",
       "SibSp            9.99\n",
       "Parch           15.91\n",
       "Fare            19.15\n",
       "Name: Survived, dtype: float64"
      ]
     },
     "execution_count": 13,
     "metadata": {},
     "output_type": "execute_result"
    }
   ],
   "source": [
    "# df.corr()['Survived']\n",
    "\n",
    "## if i want in terms of percentage then \n",
    "np.round(df.corr()['Survived']*100, 2)"
   ]
  },
  {
   "cell_type": "code",
   "execution_count": 14,
   "metadata": {},
   "outputs": [],
   "source": [
    "## from this we can clearly see that survived has strong corrleation with fare of 19 %\n",
    "## that means if fare is high chance of survive is also high \n",
    "\n",
    "## Similarly with the Parch \n",
    "\n",
    "## Also Survived has strong inverse corrleation with Pclass  -- 10 % relation \n",
    "## that means lower the Pclass value the chance of survival is more "
   ]
  },
  {
   "cell_type": "code",
   "execution_count": 15,
   "metadata": {},
   "outputs": [
    {
     "name": "stderr",
     "output_type": "stream",
     "text": [
      "C:\\Users\\G good\\AppData\\Local\\Temp\\ipykernel_13436\\1770416072.py:5: FutureWarning: The default value of numeric_only in DataFrame.corr is deprecated. In a future version, it will default to False. Select only valid columns or specify the value of numeric_only to silence this warning.\n",
      "  np.round(df.corr()[\"Age\"]*100, 2)\n"
     ]
    },
    {
     "data": {
      "text/plain": [
       "PassengerId     -3.41\n",
       "Survived        -0.00\n",
       "Pclass         -49.21\n",
       "Age            100.00\n",
       "SibSp           -9.16\n",
       "Parch           -6.12\n",
       "Fare            33.79\n",
       "Name: Age, dtype: float64"
      ]
     },
     "execution_count": 15,
     "metadata": {},
     "output_type": "execute_result"
    }
   ],
   "source": [
    "# df.corr()[\"Age\"]\n",
    "\n",
    "# in terms of percentage \n",
    "\n",
    "np.round(df.corr()[\"Age\"]*100, 2)"
   ]
  },
  {
   "cell_type": "code",
   "execution_count": 16,
   "metadata": {},
   "outputs": [],
   "source": [
    "## hear Age and Fare is highly corrleated   almost 33 %\n",
    "## that means if age is increasing the fare is also increasing\n",
    "\n",
    "\n",
    "## also if age is Increasing then Pclass is decreasing\n",
    "## i.e class 1 will be having older people \n"
   ]
  },
  {
   "cell_type": "code",
   "execution_count": 18,
   "metadata": {},
   "outputs": [
    {
     "data": {
      "image/png": "[encoded data removed]",
      "text/plain": [
       "<Figure size 700x700 with 1 Axes>"
      ]
     },
     "metadata": {},
     "output_type": "display_data"
    }
   ],
   "source": [
    "## we will cross verify this by plotting the graph between Pclass and Age\n",
    "import pandas as pd\n",
    "import seaborn as sns\n",
    "import matplotlib.pyplot as plt\n",
    "\n",
    "# Assuming you have already read the CSV file into the 'df' DataFrame\n",
    "plt.figure(figsize=(7, 7))\n",
    "sns.barplot(x='Pclass', y='Age', data=df)\n",
    "plt.show()\n"
   ]
  },
  {
   "cell_type": "markdown",
   "metadata": {},
   "source": [
    "***\n",
    "## EDA -- Univarient Analysis \n",
    "#### ( Analysis of singel column )\n",
    "***"
   ]
  },
  {
   "cell_type": "code",
   "execution_count": 19,
   "metadata": {},
   "outputs": [
    {
     "data": {
      "text/html": [
       "<div>\n",
       "<style scoped>\n",
       "    .dataframe tbody tr th:only-of-type {\n",
       "        vertical-align: middle;\n",
       "    }\n",
       "\n",
       "    .dataframe tbody tr th {\n",
       "        vertical-align: top;\n",
       "    }\n",
       "\n",
       "    .dataframe thead th {\n",
       "        text-align: right;\n",
       "    }\n",
       "</style>\n",
       "<table border=\"1\" class=\"dataframe\">\n",
       "  <thead>\n",
       "    <tr style=\"text-align: right;\">\n",
       "      <th></th>\n",
       "      <th>PassengerId</th>\n",
       "      <th>Survived</th>\n",
       "      <th>Pclass</th>\n",
       "      <th>Name</th>\n",
       "      <th>Sex</th>\n",
       "      <th>Age</th>\n",
       "      <th>SibSp</th>\n",
       "      <th>Parch</th>\n",
       "      <th>Ticket</th>\n",
       "      <th>Fare</th>\n",
       "      <th>Cabin</th>\n",
       "      <th>Embarked</th>\n",
       "    </tr>\n",
       "  </thead>\n",
       "  <tbody>\n",
       "    <tr>\n",
       "      <th>0</th>\n",
       "      <td>892</td>\n",
       "      <td>0</td>\n",
       "      <td>3</td>\n",
       "      <td>Kelly, Mr. James</td>\n",
       "      <td>male</td>\n",
       "      <td>34.5</td>\n",
       "      <td>0</td>\n",
       "      <td>0</td>\n",
       "      <td>330911</td>\n",
       "      <td>7.8292</td>\n",
       "      <td>NaN</td>\n",
       "      <td>Q</td>\n",
       "    </tr>\n",
       "    <tr>\n",
       "      <th>1</th>\n",
       "      <td>893</td>\n",
       "      <td>1</td>\n",
       "      <td>3</td>\n",
       "      <td>Wilkes, Mrs. James (Ellen Needs)</td>\n",
       "      <td>female</td>\n",
       "      <td>47.0</td>\n",
       "      <td>1</td>\n",
       "      <td>0</td>\n",
       "      <td>363272</td>\n",
       "      <td>7.0000</td>\n",
       "      <td>NaN</td>\n",
       "      <td>S</td>\n",
       "    </tr>\n",
       "    <tr>\n",
       "      <th>2</th>\n",
       "      <td>894</td>\n",
       "      <td>0</td>\n",
       "      <td>2</td>\n",
       "      <td>Myles, Mr. Thomas Francis</td>\n",
       "      <td>male</td>\n",
       "      <td>62.0</td>\n",
       "      <td>0</td>\n",
       "      <td>0</td>\n",
       "      <td>240276</td>\n",
       "      <td>9.6875</td>\n",
       "      <td>NaN</td>\n",
       "      <td>Q</td>\n",
       "    </tr>\n",
       "    <tr>\n",
       "      <th>3</th>\n",
       "      <td>895</td>\n",
       "      <td>0</td>\n",
       "      <td>3</td>\n",
       "      <td>Wirz, Mr. Albert</td>\n",
       "      <td>male</td>\n",
       "      <td>27.0</td>\n",
       "      <td>0</td>\n",
       "      <td>0</td>\n",
       "      <td>315154</td>\n",
       "      <td>8.6625</td>\n",
       "      <td>NaN</td>\n",
       "      <td>S</td>\n",
       "    </tr>\n",
       "    <tr>\n",
       "      <th>4</th>\n",
       "      <td>896</td>\n",
       "      <td>1</td>\n",
       "      <td>3</td>\n",
       "      <td>Hirvonen, Mrs. Alexander (Helga E Lindqvist)</td>\n",
       "      <td>female</td>\n",
       "      <td>22.0</td>\n",
       "      <td>1</td>\n",
       "      <td>1</td>\n",
       "      <td>3101298</td>\n",
       "      <td>12.2875</td>\n",
       "      <td>NaN</td>\n",
       "      <td>S</td>\n",
       "    </tr>\n",
       "  </tbody>\n",
       "</table>\n",
       "</div>"
      ],
      "text/plain": [
       "   PassengerId  Survived  Pclass  \\\n",
       "0          892         0       3   \n",
       "1          893         1       3   \n",
       "2          894         0       2   \n",
       "3          895         0       3   \n",
       "4          896         1       3   \n",
       "\n",
       "                                           Name     Sex   Age  SibSp  Parch  \\\n",
       "0                              Kelly, Mr. James    male  34.5      0      0   \n",
       "1              Wilkes, Mrs. James (Ellen Needs)  female  47.0      1      0   \n",
       "2                     Myles, Mr. Thomas Francis    male  62.0      0      0   \n",
       "3                              Wirz, Mr. Albert    male  27.0      0      0   \n",
       "4  Hirvonen, Mrs. Alexander (Helga E Lindqvist)  female  22.0      1      1   \n",
       "\n",
       "    Ticket     Fare Cabin Embarked  \n",
       "0   330911   7.8292   NaN        Q  \n",
       "1   363272   7.0000   NaN        S  \n",
       "2   240276   9.6875   NaN        Q  \n",
       "3   315154   8.6625   NaN        S  \n",
       "4  3101298  12.2875   NaN        S  "
      ]
     },
     "execution_count": 19,
     "metadata": {},
     "output_type": "execute_result"
    }
   ],
   "source": [
    "df.head()"
   ]
  },
  {
   "cell_type": "code",
   "execution_count": 20,
   "metadata": {},
   "outputs": [
    {
     "data": {
      "text/plain": [
       "0    324\n",
       "1     52\n",
       "2     33\n",
       "3      3\n",
       "4      2\n",
       "9      2\n",
       "6      1\n",
       "5      1\n",
       "Name: Parch, dtype: int64"
      ]
     },
     "execution_count": 20,
     "metadata": {},
     "output_type": "execute_result"
    }
   ],
   "source": [
    "df.Parch.value_counts()"
   ]
  },
  {
   "cell_type": "code",
   "execution_count": 21,
   "metadata": {},
   "outputs": [
    {
     "data": {
      "text/plain": [
       "0    283\n",
       "1    110\n",
       "2     14\n",
       "3      4\n",
       "4      4\n",
       "8      2\n",
       "5      1\n",
       "Name: SibSp, dtype: int64"
      ]
     },
     "execution_count": 21,
     "metadata": {},
     "output_type": "execute_result"
    }
   ],
   "source": [
    "df[\"SibSp\"].value_counts()"
   ]
  },
  {
   "cell_type": "code",
   "execution_count": 22,
   "metadata": {},
   "outputs": [
    {
     "data": {
      "text/plain": [
       "B57 B59 B63 B66    3\n",
       "B45                2\n",
       "C89                2\n",
       "C55 C57            2\n",
       "A34                2\n",
       "                  ..\n",
       "E52                1\n",
       "D30                1\n",
       "E31                1\n",
       "C62 C64            1\n",
       "C105               1\n",
       "Name: Cabin, Length: 76, dtype: int64"
      ]
     },
     "execution_count": 22,
     "metadata": {},
     "output_type": "execute_result"
    }
   ],
   "source": [
    "df[\"Cabin\"].value_counts()"
   ]
  },
  {
   "cell_type": "code",
   "execution_count": 23,
   "metadata": {},
   "outputs": [],
   "source": [
    "## Categorical columns : Survived, Pclass, SibSp, Parch, Cabin\n",
    "\n",
    "## Numerical columns : Age, Fare, Ticket"
   ]
  },
  {
   "cell_type": "markdown",
   "metadata": {},
   "source": [
    "### Working with categorical Data"
   ]
  },
  {
   "cell_type": "markdown",
   "metadata": {},
   "source": [
    "####  countplot ( gives the frequency of category data ) and piechart ( gives the % of category data ) "
   ]
  },
  {
   "cell_type": "code",
   "execution_count": 24,
   "metadata": {},
   "outputs": [],
   "source": [
    "# Categorical data can be visualized using only a  bar chart and pie chart. \n",
    "# The bar chart is used when measuring for frequency (or mode) while \n",
    "# The pie chart is used when dealing with percentages."
   ]
  },
  {
   "cell_type": "code",
   "execution_count": 25,
   "metadata": {},
   "outputs": [
    {
     "data": {
      "text/plain": [
       "0    266\n",
       "1    152\n",
       "Name: Survived, dtype: int64"
      ]
     },
     "execution_count": 25,
     "metadata": {},
     "output_type": "execute_result"
    }
   ],
   "source": [
    "### using numpy on Survived Columns We can check how many rows lie in particular category \n",
    "\n",
    "df[\"Survived\"].value_counts()\n"
   ]
  },
  {
   "cell_type": "code",
   "execution_count": 26,
   "metadata": {},
   "outputs": [
    {
     "data": {
      "text/plain": [
       "<Axes: >"
      ]
     },
     "execution_count": 26,
     "metadata": {},
     "output_type": "execute_result"
    },
    {
     "data": {
      "image/png": "[encoded data removed]",
      "text/plain": [
       "<Figure size 640x480 with 1 Axes>"
      ]
     },
     "metadata": {},
     "output_type": "display_data"
    }
   ],
   "source": [
    "df[\"Survived\"].value_counts().plot(kind = \"bar\")\n",
    "\n",
    "# from this we can say that dide people are more than survived people "
   ]
  },
  {
   "cell_type": "code",
   "execution_count": 27,
   "metadata": {},
   "outputs": [
    {
     "data": {
      "text/plain": [
       "<Axes: ylabel='Survived'>"
      ]
     },
     "execution_count": 27,
     "metadata": {},
     "output_type": "execute_result"
    },
    {
     "data": {
      "image/png": "[encoded data removed]",
      "text/plain": [
       "<Figure size 640x480 with 1 Axes>"
      ]
     },
     "metadata": {},
     "output_type": "display_data"
    }
   ],
   "source": [
    "## interms of % we can see the category \n",
    "\n",
    "df['Survived'].value_counts().plot(kind='pie',autopct='%.2f')"
   ]
  },
  {
   "cell_type": "code",
   "execution_count": 28,
   "metadata": {},
   "outputs": [
    {
     "data": {
      "image/png": "[encoded data removed]",
      "text/plain": [
       "<Figure size 640x480 with 1 Axes>"
      ]
     },
     "metadata": {},
     "output_type": "display_data"
    }
   ],
   "source": [
    "## we can plot them using seaborn \n",
    "\n",
    "sns.countplot(df['Survived'])\n",
    "plt.show()"
   ]
  },
  {
   "cell_type": "code",
   "execution_count": null,
   "metadata": {},
   "outputs": [],
   "source": []
  },
  {
   "cell_type": "code",
   "execution_count": 29,
   "metadata": {},
   "outputs": [
    {
     "data": {
      "text/plain": [
       "<Axes: ylabel='count'>"
      ]
     },
     "execution_count": 29,
     "metadata": {},
     "output_type": "execute_result"
    },
    {
     "data": {
      "image/png": "[encoded data removed]",
      "text/plain": [
       "<Figure size 640x480 with 1 Axes>"
      ]
     },
     "metadata": {},
     "output_type": "display_data"
    }
   ],
   "source": [
    "sns.countplot(df[\"Pclass\"])\n",
    "\n",
    "## from this we can clearly see that 3rd class people are highest "
   ]
  },
  {
   "cell_type": "code",
   "execution_count": 30,
   "metadata": {},
   "outputs": [
    {
     "data": {
      "text/plain": [
       "<Axes: ylabel='Pclass'>"
      ]
     },
     "execution_count": 30,
     "metadata": {},
     "output_type": "execute_result"
    },
    {
     "data": {
      "image/png": "[encoded data removed]",
      "text/plain": [
       "<Figure size 640x480 with 1 Axes>"
      ]
     },
     "metadata": {},
     "output_type": "display_data"
    }
   ],
   "source": [
    "df['Pclass'].value_counts().plot(kind = \"pie\", autopct = \"%.2f\")\n",
    "\n",
    "# info in terms of precentage"
   ]
  },
  {
   "cell_type": "code",
   "execution_count": 33,
   "metadata": {},
   "outputs": [
    {
     "data": {
      "image/png": "[encoded data removed]",
      "text/plain": [
       "<Figure size 640x480 with 1 Axes>"
      ]
     },
     "metadata": {},
     "output_type": "display_data"
    }
   ],
   "source": [
    "sns.countplot(x='Sex', data=df)\n",
    "plt.show()"
   ]
  },
  {
   "cell_type": "code",
   "execution_count": 35,
   "metadata": {},
   "outputs": [
    {
     "data": {
      "image/png": "[encoded data removed]",
      "text/plain": [
       "<Figure size 640x480 with 1 Axes>"
      ]
     },
     "metadata": {},
     "output_type": "display_data"
    }
   ],
   "source": [
    "sns.countplot(x='Embarked', data=df)\n",
    "plt.show()"
   ]
  },
  {
   "cell_type": "code",
   "execution_count": 36,
   "metadata": {},
   "outputs": [],
   "source": [
    "## in categorical data \n",
    "\n",
    "## we can olny find out the frequency of the count\n",
    "## also in term of % using pie chart "
   ]
  },
  {
   "cell_type": "code",
   "execution_count": null,
   "metadata": {},
   "outputs": [],
   "source": []
  },
  {
   "cell_type": "markdown",
   "metadata": {},
   "source": [
    "### Working with Numerical Data"
   ]
  },
  {
   "cell_type": "markdown",
   "metadata": {},
   "source": [
    "### a. Histogram "
   ]
  },
  {
   "cell_type": "code",
   "execution_count": 37,
   "metadata": {},
   "outputs": [],
   "source": [
    "## In numerical data we try to divide our data into range \n",
    "## like in Age we try to divide in range of 0-10, 10-20, 20-30 .....  we call range as bins\n",
    "\n",
    "# that means we are looking the distribution of the data into numerical col (if we have numerical data and continious data)"
   ]
  },
  {
   "cell_type": "code",
   "execution_count": 38,
   "metadata": {},
   "outputs": [
    {
     "data": {
      "image/png": "[encoded data removed]",
      "text/plain": [
       "<Figure size 640x480 with 1 Axes>"
      ]
     },
     "metadata": {},
     "output_type": "display_data"
    }
   ],
   "source": [
    "## from making histogram we use matplotlib.pyplot \n",
    "plt.hist(df[\"Age\"])\n",
    "plt.show()\n",
    "\n",
    "\n",
    "## this is showing that small age people and  high age people are less as compare to \n",
    "## middle age people..   age betweeen [20, 30] are highest "
   ]
  },
  {
   "cell_type": "code",
   "execution_count": 39,
   "metadata": {},
   "outputs": [
    {
     "data": {
      "image/png": "[encoded data removed]",
      "text/plain": [
       "<Figure size 640x480 with 1 Axes>"
      ]
     },
     "metadata": {},
     "output_type": "display_data"
    }
   ],
   "source": [
    "## we can change the bins in histogram\n",
    "plt.hist(df[\"Age\"], bins = 50)\n",
    "plt.show()"
   ]
  },
  {
   "cell_type": "code",
   "execution_count": null,
   "metadata": {},
   "outputs": [],
   "source": []
  },
  {
   "cell_type": "markdown",
   "metadata": {},
   "source": [
    "### b. Distplot"
   ]
  },
  {
   "cell_type": "code",
   "execution_count": 40,
   "metadata": {},
   "outputs": [
    {
     "name": "stderr",
     "output_type": "stream",
     "text": [
      "C:\\Users\\G good\\AppData\\Local\\Temp\\ipykernel_13436\\4085418590.py:8: UserWarning: \n",
      "\n",
      "`distplot` is a deprecated function and will be removed in seaborn v0.14.0.\n",
      "\n",
      "Please adapt your code to use either `displot` (a figure-level function with\n",
      "similar flexibility) or `histplot` (an axes-level function for histograms).\n",
      "\n",
      "For a guide to updating your code to use the new functions, please see\n",
      "https://gist.github.com/mwaskom/de44147ed2974457ad6372750bbe5751\n",
      "\n",
      "  sns.distplot(df[\"Age\"])\n"
     ]
    },
    {
     "data": {
      "text/plain": [
       "<Axes: xlabel='Age', ylabel='Density'>"
      ]
     },
     "execution_count": 40,
     "metadata": {},
     "output_type": "execute_result"
    },
    {
     "data": {
      "image/png": "[encoded data removed]",
      "text/plain": [
       "<Figure size 640x480 with 1 Axes>"
      ]
     },
     "metadata": {},
     "output_type": "display_data"
    }
   ],
   "source": [
    "## Displot is same as histogram just added kde\n",
    "## kde = Kernal density destribution \n",
    "\n",
    "\n",
    "## kde == Pdf (probablity density function )\n",
    "## that means if i take random person of x age then it will give me the probablity of finding that person\n",
    "\n",
    "sns.distplot(df[\"Age\"])\n",
    "\n",
    "## dis plot also tells the skewness of data\n",
    "\n",
    "## skewness can also be find out by \n",
    "## df[\"Age\"].skew()   ... if it is 1 then data is equally distributed"
   ]
  },
  {
   "cell_type": "code",
   "execution_count": 41,
   "metadata": {},
   "outputs": [
    {
     "data": {
      "text/plain": [
       "<Axes: xlabel='Age', ylabel='Density'>"
      ]
     },
     "execution_count": 41,
     "metadata": {},
     "output_type": "execute_result"
    },
    {
     "data": {
      "image/png": "[encoded data removed]",
      "text/plain": [
       "<Figure size 640x480 with 1 Axes>"
      ]
     },
     "metadata": {},
     "output_type": "display_data"
    }
   ],
   "source": [
    "sns.kdeplot(df[\"Age\"]) \n",
    "## or\n",
    "## sns.distplot(df[\"Age\"], hist =False)"
   ]
  },
  {
   "cell_type": "code",
   "execution_count": 42,
   "metadata": {},
   "outputs": [
    {
     "data": {
      "text/plain": [
       "0.4573612871503845"
      ]
     },
     "execution_count": 42,
     "metadata": {},
     "output_type": "execute_result"
    }
   ],
   "source": [
    "df[\"Age\"].skew()"
   ]
  },
  {
   "cell_type": "markdown",
   "metadata": {},
   "source": [
    "### c. Boxplot"
   ]
  },
  {
   "cell_type": "code",
   "execution_count": 43,
   "metadata": {},
   "outputs": [
    {
     "data": {
      "text/plain": [
       "<Axes: >"
      ]
     },
     "execution_count": 43,
     "metadata": {},
     "output_type": "execute_result"
    },
    {
     "data": {
      "image/png": "[encoded data removed]",
      "text/plain": [
       "<Figure size 640x480 with 1 Axes>"
      ]
     },
     "metadata": {},
     "output_type": "display_data"
    }
   ],
   "source": [
    "## It gives the 5 No summery \n",
    "\n",
    "## median == if we sort our date then the middle element is median \n",
    "## Q1 = this is that form data, below which 25 % of data is small   i.e. 25 percentile \n",
    "## Q3 = 75 percentile \n",
    "## minimum \n",
    "## maximum \n",
    "\n",
    "\n",
    "sns.boxplot(df[\"Fare\"])\n",
    "\n",
    "\n",
    "## from this we can clearly see that 500 fare is potential outlier"
   ]
  },
  {
   "cell_type": "code",
   "execution_count": 44,
   "metadata": {},
   "outputs": [
    {
     "data": {
      "text/plain": [
       "<Axes: >"
      ]
     },
     "execution_count": 44,
     "metadata": {},
     "output_type": "execute_result"
    },
    {
     "data": {
      "image/png": "[encoded data removed]",
      "text/plain": [
       "<Figure size 640x480 with 1 Axes>"
      ]
     },
     "metadata": {},
     "output_type": "display_data"
    }
   ],
   "source": [
    "## Box plot of Age column \n",
    "\n",
    "sns.boxplot(df[\"Age\"], color = \"red\")\n",
    "\n",
    "## there are two potential outlyer"
   ]
  },
  {
   "cell_type": "code",
   "execution_count": 45,
   "metadata": {},
   "outputs": [
    {
     "data": {
      "text/plain": [
       "0.17"
      ]
     },
     "execution_count": 45,
     "metadata": {},
     "output_type": "execute_result"
    }
   ],
   "source": [
    "df[\"Age\"].min()"
   ]
  },
  {
   "cell_type": "code",
   "execution_count": 46,
   "metadata": {},
   "outputs": [
    {
     "data": {
      "text/plain": [
       "76.0"
      ]
     },
     "execution_count": 46,
     "metadata": {},
     "output_type": "execute_result"
    }
   ],
   "source": [
    "df[\"Age\"].max()"
   ]
  },
  {
   "cell_type": "code",
   "execution_count": 47,
   "metadata": {},
   "outputs": [
    {
     "data": {
      "text/plain": [
       "30.272590361445783"
      ]
     },
     "execution_count": 47,
     "metadata": {},
     "output_type": "execute_result"
    }
   ],
   "source": [
    "df[\"Age\"].mean()"
   ]
  },
  {
   "cell_type": "code",
   "execution_count": 48,
   "metadata": {},
   "outputs": [
    {
     "data": {
      "text/plain": [
       "27.0"
      ]
     },
     "execution_count": 48,
     "metadata": {},
     "output_type": "execute_result"
    }
   ],
   "source": [
    "df[\"Age\"].median()"
   ]
  },
  {
   "cell_type": "markdown",
   "metadata": {},
   "source": [
    "## EDA - Bivarient Analysis / Multi-Varient Analysis\n",
    "#### ( Bivarient =  Analysis of  two columns )\n",
    "#### ( Multivariet = Alalysis of more than 2 columns )"
   ]
  },
  {
   "cell_type": "code",
   "execution_count": 49,
   "metadata": {},
   "outputs": [],
   "source": [
    "## we will be using 4 different datasets "
   ]
  },
  {
   "cell_type": "code",
   "execution_count": null,
   "metadata": {},
   "outputs": [],
   "source": []
  },
  {
   "cell_type": "code",
   "execution_count": 52,
   "metadata": {},
   "outputs": [
    {
     "data": {
      "text/html": [
       "<div>\n",
       "<style scoped>\n",
       "    .dataframe tbody tr th:only-of-type {\n",
       "        vertical-align: middle;\n",
       "    }\n",
       "\n",
       "    .dataframe tbody tr th {\n",
       "        vertical-align: top;\n",
       "    }\n",
       "\n",
       "    .dataframe thead th {\n",
       "        text-align: right;\n",
       "    }\n",
       "</style>\n",
       "<table border=\"1\" class=\"dataframe\">\n",
       "  <thead>\n",
       "    <tr style=\"text-align: right;\">\n",
       "      <th></th>\n",
       "      <th>Unnamed: 0</th>\n",
       "      <th>Unnamed: 1</th>\n",
       "      <th>Unnamed: 2</th>\n",
       "      <th>Unnamed: 3</th>\n",
       "      <th>Unnamed: 4</th>\n",
       "      <th>Unnamed: 5</th>\n",
       "      <th>Unnamed: 6</th>\n",
       "      <th>Unnamed: 7</th>\n",
       "      <th>Unnamed: 8</th>\n",
       "      <th>Unnamed: 9</th>\n",
       "      <th>...</th>\n",
       "      <th>Unnamed: 13</th>\n",
       "      <th>Unnamed: 14</th>\n",
       "      <th>Unnamed: 15</th>\n",
       "      <th>Unnamed: 16</th>\n",
       "      <th>Unnamed: 17</th>\n",
       "      <th>Unnamed: 18</th>\n",
       "      <th>Unnamed: 19</th>\n",
       "      <th>Unnamed: 20</th>\n",
       "      <th>Unnamed: 21</th>\n",
       "      <th>Unnamed: 22</th>\n",
       "    </tr>\n",
       "  </thead>\n",
       "  <tbody>\n",
       "    <tr>\n",
       "      <th>0</th>\n",
       "      <td>Federation</td>\n",
       "      <td>Date</td>\n",
       "      <td>MeetCountry</td>\n",
       "      <td>MeetState</td>\n",
       "      <td>MeetTown</td>\n",
       "      <td>MeetName</td>\n",
       "      <td>Formula</td>\n",
       "      <td>RuleSet</td>\n",
       "      <td>NaN</td>\n",
       "      <td>NaN</td>\n",
       "      <td>...</td>\n",
       "      <td>NaN</td>\n",
       "      <td>NaN</td>\n",
       "      <td>NaN</td>\n",
       "      <td>NaN</td>\n",
       "      <td>NaN</td>\n",
       "      <td>NaN</td>\n",
       "      <td>NaN</td>\n",
       "      <td>NaN</td>\n",
       "      <td>NaN</td>\n",
       "      <td>NaN</td>\n",
       "    </tr>\n",
       "    <tr>\n",
       "      <th>1</th>\n",
       "      <td>APL</td>\n",
       "      <td>2023-03-12</td>\n",
       "      <td>NaN</td>\n",
       "      <td>Queensland</td>\n",
       "      <td>Cairns</td>\n",
       "      <td>APL Cairns Cup</td>\n",
       "      <td>Dots</td>\n",
       "      <td>CombineRawAndWraps CombineSingleAndMulti</td>\n",
       "      <td>NaN</td>\n",
       "      <td>NaN</td>\n",
       "      <td>...</td>\n",
       "      <td>NaN</td>\n",
       "      <td>NaN</td>\n",
       "      <td>NaN</td>\n",
       "      <td>NaN</td>\n",
       "      <td>NaN</td>\n",
       "      <td>NaN</td>\n",
       "      <td>NaN</td>\n",
       "      <td>NaN</td>\n",
       "      <td>NaN</td>\n",
       "      <td>NaN</td>\n",
       "    </tr>\n",
       "    <tr>\n",
       "      <th>2</th>\n",
       "      <td>NaN</td>\n",
       "      <td>NaN</td>\n",
       "      <td>NaN</td>\n",
       "      <td>NaN</td>\n",
       "      <td>NaN</td>\n",
       "      <td>NaN</td>\n",
       "      <td>NaN</td>\n",
       "      <td>NaN</td>\n",
       "      <td>NaN</td>\n",
       "      <td>NaN</td>\n",
       "      <td>...</td>\n",
       "      <td>NaN</td>\n",
       "      <td>NaN</td>\n",
       "      <td>NaN</td>\n",
       "      <td>NaN</td>\n",
       "      <td>NaN</td>\n",
       "      <td>NaN</td>\n",
       "      <td>NaN</td>\n",
       "      <td>NaN</td>\n",
       "      <td>NaN</td>\n",
       "      <td>NaN</td>\n",
       "    </tr>\n",
       "    <tr>\n",
       "      <th>3</th>\n",
       "      <td>Place</td>\n",
       "      <td>Name</td>\n",
       "      <td>Sex</td>\n",
       "      <td>Age</td>\n",
       "      <td>Equipment</td>\n",
       "      <td>Division</td>\n",
       "      <td>BodyweightKg</td>\n",
       "      <td>WeightClassKg</td>\n",
       "      <td>Squat1Kg</td>\n",
       "      <td>Squat2Kg</td>\n",
       "      <td>...</td>\n",
       "      <td>Bench2Kg</td>\n",
       "      <td>Bench3Kg</td>\n",
       "      <td>Best3BenchKg</td>\n",
       "      <td>Deadlift1Kg</td>\n",
       "      <td>Deadlift2Kg</td>\n",
       "      <td>Deadlift3Kg</td>\n",
       "      <td>Best3DeadliftKg</td>\n",
       "      <td>TotalKg</td>\n",
       "      <td>Points</td>\n",
       "      <td>Event</td>\n",
       "    </tr>\n",
       "    <tr>\n",
       "      <th>4</th>\n",
       "      <td>1</td>\n",
       "      <td>Grace Harding</td>\n",
       "      <td>F</td>\n",
       "      <td>16</td>\n",
       "      <td>Raw</td>\n",
       "      <td>J15-19</td>\n",
       "      <td>67.45</td>\n",
       "      <td>67.5</td>\n",
       "      <td>100</td>\n",
       "      <td>110</td>\n",
       "      <td>...</td>\n",
       "      <td>-87.5</td>\n",
       "      <td>-87.5</td>\n",
       "      <td>82.5</td>\n",
       "      <td>120</td>\n",
       "      <td>130</td>\n",
       "      <td>140</td>\n",
       "      <td>140</td>\n",
       "      <td>337.5</td>\n",
       "      <td>348.58</td>\n",
       "      <td>SBD</td>\n",
       "    </tr>\n",
       "  </tbody>\n",
       "</table>\n",
       "<p>5 rows × 23 columns</p>\n",
       "</div>"
      ],
      "text/plain": [
       "   Unnamed: 0     Unnamed: 1   Unnamed: 2  Unnamed: 3 Unnamed: 4  \\\n",
       "0  Federation           Date  MeetCountry   MeetState   MeetTown   \n",
       "1         APL     2023-03-12          NaN  Queensland     Cairns   \n",
       "2         NaN            NaN          NaN         NaN        NaN   \n",
       "3       Place           Name          Sex         Age  Equipment   \n",
       "4           1  Grace Harding            F          16        Raw   \n",
       "\n",
       "       Unnamed: 5    Unnamed: 6                                Unnamed: 7  \\\n",
       "0        MeetName       Formula                                   RuleSet   \n",
       "1  APL Cairns Cup          Dots  CombineRawAndWraps CombineSingleAndMulti   \n",
       "2             NaN           NaN                                       NaN   \n",
       "3        Division  BodyweightKg                             WeightClassKg   \n",
       "4          J15-19         67.45                                      67.5   \n",
       "\n",
       "  Unnamed: 8 Unnamed: 9  ... Unnamed: 13 Unnamed: 14   Unnamed: 15  \\\n",
       "0        NaN        NaN  ...         NaN         NaN           NaN   \n",
       "1        NaN        NaN  ...         NaN         NaN           NaN   \n",
       "2        NaN        NaN  ...         NaN         NaN           NaN   \n",
       "3   Squat1Kg   Squat2Kg  ...    Bench2Kg    Bench3Kg  Best3BenchKg   \n",
       "4        100        110  ...       -87.5       -87.5          82.5   \n",
       "\n",
       "   Unnamed: 16  Unnamed: 17  Unnamed: 18      Unnamed: 19 Unnamed: 20  \\\n",
       "0          NaN          NaN          NaN              NaN         NaN   \n",
       "1          NaN          NaN          NaN              NaN         NaN   \n",
       "2          NaN          NaN          NaN              NaN         NaN   \n",
       "3  Deadlift1Kg  Deadlift2Kg  Deadlift3Kg  Best3DeadliftKg     TotalKg   \n",
       "4          120          130          140              140       337.5   \n",
       "\n",
       "  Unnamed: 21 Unnamed: 22  \n",
       "0         NaN         NaN  \n",
       "1         NaN         NaN  \n",
       "2         NaN         NaN  \n",
       "3      Points       Event  \n",
       "4      348.58         SBD  \n",
       "\n",
       "[5 rows x 23 columns]"
      ]
     },
     "execution_count": 52,
     "metadata": {},
     "output_type": "execute_result"
    }
   ],
   "source": [
    "file_path = 'C:/Users/G good/Desktop/Msc-CS/big d/Lab/Ass1/Lukas/tested.csv'\n",
    "titanic = pd.read_csv(file_path)\n",
    "titanic.head()"
   ]
  },
  {
   "cell_type": "code",
   "execution_count": 55,
   "metadata": {},
   "outputs": [
    {
     "data": {
      "text/html": [
       "<div>\n",
       "<style scoped>\n",
       "    .dataframe tbody tr th:only-of-type {\n",
       "        vertical-align: middle;\n",
       "    }\n",
       "\n",
       "    .dataframe tbody tr th {\n",
       "        vertical-align: top;\n",
       "    }\n",
       "\n",
       "    .dataframe thead th {\n",
       "        text-align: right;\n",
       "    }\n",
       "</style>\n",
       "<table border=\"1\" class=\"dataframe\">\n",
       "  <thead>\n",
       "    <tr style=\"text-align: right;\">\n",
       "      <th></th>\n",
       "      <th>created_utc</th>\n",
       "      <th>score</th>\n",
       "      <th>domain</th>\n",
       "      <th>id</th>\n",
       "      <th>title</th>\n",
       "      <th>author</th>\n",
       "      <th>ups</th>\n",
       "      <th>downs</th>\n",
       "      <th>num_comments</th>\n",
       "      <th>permalink</th>\n",
       "      <th>...</th>\n",
       "      <th>over_18</th>\n",
       "      <th>thumbnail</th>\n",
       "      <th>subreddit_id</th>\n",
       "      <th>edited</th>\n",
       "      <th>link_flair_css_class</th>\n",
       "      <th>author_flair_css_class</th>\n",
       "      <th>is_self</th>\n",
       "      <th>name</th>\n",
       "      <th>url</th>\n",
       "      <th>distinguished</th>\n",
       "    </tr>\n",
       "  </thead>\n",
       "  <tbody>\n",
       "    <tr>\n",
       "      <th>0</th>\n",
       "      <td>1.337440e+09</td>\n",
       "      <td>95</td>\n",
       "      <td>self.relationship_tips</td>\n",
       "      <td>tuqvq</td>\n",
       "      <td>Those little comments *do* matter.</td>\n",
       "      <td>Gimli_The_Dwarf</td>\n",
       "      <td>103</td>\n",
       "      <td>8</td>\n",
       "      <td>17</td>\n",
       "      <td>http://www.reddit.com/r/relationship_tips/comm...</td>\n",
       "      <td>...</td>\n",
       "      <td>False</td>\n",
       "      <td>NaN</td>\n",
       "      <td>t5_2sa5c</td>\n",
       "      <td>False</td>\n",
       "      <td>NaN</td>\n",
       "      <td>NaN</td>\n",
       "      <td>True</td>\n",
       "      <td>t3_tuqvq</td>\n",
       "      <td>http://www.reddit.com/r/relationship_tips/comm...</td>\n",
       "      <td>NaN</td>\n",
       "    </tr>\n",
       "    <tr>\n",
       "      <th>1</th>\n",
       "      <td>1.324572e+09</td>\n",
       "      <td>84</td>\n",
       "      <td>self.relationship_tips</td>\n",
       "      <td>nmr0g</td>\n",
       "      <td>Concerning a txt I just received...</td>\n",
       "      <td>LukeLukez</td>\n",
       "      <td>89</td>\n",
       "      <td>5</td>\n",
       "      <td>8</td>\n",
       "      <td>http://www.reddit.com/r/relationship_tips/comm...</td>\n",
       "      <td>...</td>\n",
       "      <td>False</td>\n",
       "      <td>NaN</td>\n",
       "      <td>t5_2sa5c</td>\n",
       "      <td>False</td>\n",
       "      <td>NaN</td>\n",
       "      <td>NaN</td>\n",
       "      <td>True</td>\n",
       "      <td>t3_nmr0g</td>\n",
       "      <td>http://www.reddit.com/r/relationship_tips/comm...</td>\n",
       "      <td>NaN</td>\n",
       "    </tr>\n",
       "    <tr>\n",
       "      <th>2</th>\n",
       "      <td>1.331331e+09</td>\n",
       "      <td>80</td>\n",
       "      <td>self.relationship_tips</td>\n",
       "      <td>qphe5</td>\n",
       "      <td>Dr. Seuss's take on love</td>\n",
       "      <td>loveydoveyideas</td>\n",
       "      <td>83</td>\n",
       "      <td>3</td>\n",
       "      <td>5</td>\n",
       "      <td>http://www.reddit.com/r/relationship_tips/comm...</td>\n",
       "      <td>...</td>\n",
       "      <td>False</td>\n",
       "      <td>NaN</td>\n",
       "      <td>t5_2sa5c</td>\n",
       "      <td>False</td>\n",
       "      <td>NaN</td>\n",
       "      <td>NaN</td>\n",
       "      <td>True</td>\n",
       "      <td>t3_qphe5</td>\n",
       "      <td>http://www.reddit.com/r/relationship_tips/comm...</td>\n",
       "      <td>NaN</td>\n",
       "    </tr>\n",
       "    <tr>\n",
       "      <th>3</th>\n",
       "      <td>1.334973e+09</td>\n",
       "      <td>72</td>\n",
       "      <td>self.relationship_tips</td>\n",
       "      <td>skpfv</td>\n",
       "      <td>Relationship Tip: Will solve pretty much every...</td>\n",
       "      <td>Pilot824</td>\n",
       "      <td>84</td>\n",
       "      <td>12</td>\n",
       "      <td>27</td>\n",
       "      <td>http://www.reddit.com/r/relationship_tips/comm...</td>\n",
       "      <td>...</td>\n",
       "      <td>False</td>\n",
       "      <td>NaN</td>\n",
       "      <td>t5_2sa5c</td>\n",
       "      <td>True</td>\n",
       "      <td>NaN</td>\n",
       "      <td>NaN</td>\n",
       "      <td>True</td>\n",
       "      <td>t3_skpfv</td>\n",
       "      <td>http://www.reddit.com/r/relationship_tips/comm...</td>\n",
       "      <td>NaN</td>\n",
       "    </tr>\n",
       "    <tr>\n",
       "      <th>4</th>\n",
       "      <td>1.371770e+09</td>\n",
       "      <td>67</td>\n",
       "      <td>self.relationship_tips</td>\n",
       "      <td>1grcz9</td>\n",
       "      <td>A heartbreakingly realistic essay on unequal r...</td>\n",
       "      <td>dediaadia</td>\n",
       "      <td>79</td>\n",
       "      <td>12</td>\n",
       "      <td>8</td>\n",
       "      <td>http://www.reddit.com/r/relationship_tips/comm...</td>\n",
       "      <td>...</td>\n",
       "      <td>False</td>\n",
       "      <td>NaN</td>\n",
       "      <td>t5_2sa5c</td>\n",
       "      <td>False</td>\n",
       "      <td>NaN</td>\n",
       "      <td>NaN</td>\n",
       "      <td>True</td>\n",
       "      <td>t3_1grcz9</td>\n",
       "      <td>http://www.reddit.com/r/relationship_tips/comm...</td>\n",
       "      <td>NaN</td>\n",
       "    </tr>\n",
       "  </tbody>\n",
       "</table>\n",
       "<p>5 rows × 22 columns</p>\n",
       "</div>"
      ],
      "text/plain": [
       "    created_utc  score                  domain      id  \\\n",
       "0  1.337440e+09     95  self.relationship_tips   tuqvq   \n",
       "1  1.324572e+09     84  self.relationship_tips   nmr0g   \n",
       "2  1.331331e+09     80  self.relationship_tips   qphe5   \n",
       "3  1.334973e+09     72  self.relationship_tips   skpfv   \n",
       "4  1.371770e+09     67  self.relationship_tips  1grcz9   \n",
       "\n",
       "                                               title           author  ups  \\\n",
       "0                Those little comments *do* matter.   Gimli_The_Dwarf  103   \n",
       "1                Concerning a txt I just received...        LukeLukez   89   \n",
       "2                           Dr. Seuss's take on love  loveydoveyideas   83   \n",
       "3  Relationship Tip: Will solve pretty much every...         Pilot824   84   \n",
       "4  A heartbreakingly realistic essay on unequal r...        dediaadia   79   \n",
       "\n",
       "   downs  num_comments                                          permalink  \\\n",
       "0      8            17  http://www.reddit.com/r/relationship_tips/comm...   \n",
       "1      5             8  http://www.reddit.com/r/relationship_tips/comm...   \n",
       "2      3             5  http://www.reddit.com/r/relationship_tips/comm...   \n",
       "3     12            27  http://www.reddit.com/r/relationship_tips/comm...   \n",
       "4     12             8  http://www.reddit.com/r/relationship_tips/comm...   \n",
       "\n",
       "   ... over_18 thumbnail  subreddit_id  edited link_flair_css_class  \\\n",
       "0  ...   False       NaN      t5_2sa5c   False                  NaN   \n",
       "1  ...   False       NaN      t5_2sa5c   False                  NaN   \n",
       "2  ...   False       NaN      t5_2sa5c   False                  NaN   \n",
       "3  ...   False       NaN      t5_2sa5c    True                  NaN   \n",
       "4  ...   False       NaN      t5_2sa5c   False                  NaN   \n",
       "\n",
       "  author_flair_css_class is_self       name  \\\n",
       "0                    NaN    True   t3_tuqvq   \n",
       "1                    NaN    True   t3_nmr0g   \n",
       "2                    NaN    True   t3_qphe5   \n",
       "3                    NaN    True   t3_skpfv   \n",
       "4                    NaN    True  t3_1grcz9   \n",
       "\n",
       "                                                 url distinguished  \n",
       "0  http://www.reddit.com/r/relationship_tips/comm...           NaN  \n",
       "1  http://www.reddit.com/r/relationship_tips/comm...           NaN  \n",
       "2  http://www.reddit.com/r/relationship_tips/comm...           NaN  \n",
       "3  http://www.reddit.com/r/relationship_tips/comm...           NaN  \n",
       "4  http://www.reddit.com/r/relationship_tips/comm...           NaN  \n",
       "\n",
       "[5 rows x 22 columns]"
      ]
     },
     "execution_count": 55,
     "metadata": {},
     "output_type": "execute_result"
    }
   ],
   "source": [
    "file_path = 'C:/Users/G good/Desktop/Msc-CS/big d/Lab/Ass1/Lukas/tips.csv' # this is dataset 0f hotel bill and tips given to waiter \n",
    "tips = pd.read_csv(file_path)\n",
    "tips.head()"
   ]
  },
  {
   "cell_type": "code",
   "execution_count": 56,
   "metadata": {},
   "outputs": [
    {
     "data": {
      "text/html": [
       "<div>\n",
       "<style scoped>\n",
       "    .dataframe tbody tr th:only-of-type {\n",
       "        vertical-align: middle;\n",
       "    }\n",
       "\n",
       "    .dataframe tbody tr th {\n",
       "        vertical-align: top;\n",
       "    }\n",
       "\n",
       "    .dataframe thead th {\n",
       "        text-align: right;\n",
       "    }\n",
       "</style>\n",
       "<table border=\"1\" class=\"dataframe\">\n",
       "  <thead>\n",
       "    <tr style=\"text-align: right;\">\n",
       "      <th></th>\n",
       "      <th>sepal.length</th>\n",
       "      <th>sepal.width</th>\n",
       "      <th>petal.length</th>\n",
       "      <th>petal.width</th>\n",
       "      <th>variety</th>\n",
       "    </tr>\n",
       "  </thead>\n",
       "  <tbody>\n",
       "    <tr>\n",
       "      <th>0</th>\n",
       "      <td>5.1</td>\n",
       "      <td>3.5</td>\n",
       "      <td>1.4</td>\n",
       "      <td>0.2</td>\n",
       "      <td>Setosa</td>\n",
       "    </tr>\n",
       "    <tr>\n",
       "      <th>1</th>\n",
       "      <td>4.9</td>\n",
       "      <td>3.0</td>\n",
       "      <td>1.4</td>\n",
       "      <td>0.2</td>\n",
       "      <td>Setosa</td>\n",
       "    </tr>\n",
       "    <tr>\n",
       "      <th>2</th>\n",
       "      <td>4.7</td>\n",
       "      <td>3.2</td>\n",
       "      <td>1.3</td>\n",
       "      <td>0.2</td>\n",
       "      <td>Setosa</td>\n",
       "    </tr>\n",
       "    <tr>\n",
       "      <th>3</th>\n",
       "      <td>4.6</td>\n",
       "      <td>3.1</td>\n",
       "      <td>1.5</td>\n",
       "      <td>0.2</td>\n",
       "      <td>Setosa</td>\n",
       "    </tr>\n",
       "    <tr>\n",
       "      <th>4</th>\n",
       "      <td>5.0</td>\n",
       "      <td>3.6</td>\n",
       "      <td>1.4</td>\n",
       "      <td>0.2</td>\n",
       "      <td>Setosa</td>\n",
       "    </tr>\n",
       "  </tbody>\n",
       "</table>\n",
       "</div>"
      ],
      "text/plain": [
       "   sepal.length  sepal.width  petal.length  petal.width variety\n",
       "0           5.1          3.5           1.4          0.2  Setosa\n",
       "1           4.9          3.0           1.4          0.2  Setosa\n",
       "2           4.7          3.2           1.3          0.2  Setosa\n",
       "3           4.6          3.1           1.5          0.2  Setosa\n",
       "4           5.0          3.6           1.4          0.2  Setosa"
      ]
     },
     "execution_count": 56,
     "metadata": {},
     "output_type": "execute_result"
    }
   ],
   "source": [
    "file_path = 'C:/Users/G good/Desktop/Msc-CS/big d/Lab/Ass1/Lukas/iris.csv'  # this is dataset of flowers and their species\n",
    "iris = pd.read_csv(file_path)\n",
    "iris.head()   "
   ]
  },
  {
   "cell_type": "code",
   "execution_count": 58,
   "metadata": {},
   "outputs": [
    {
     "data": {
      "text/html": [
       "<div>\n",
       "<style scoped>\n",
       "    .dataframe tbody tr th:only-of-type {\n",
       "        vertical-align: middle;\n",
       "    }\n",
       "\n",
       "    .dataframe tbody tr th {\n",
       "        vertical-align: top;\n",
       "    }\n",
       "\n",
       "    .dataframe thead th {\n",
       "        text-align: right;\n",
       "    }\n",
       "</style>\n",
       "<table border=\"1\" class=\"dataframe\">\n",
       "  <thead>\n",
       "    <tr style=\"text-align: right;\">\n",
       "      <th></th>\n",
       "      <th>source</th>\n",
       "      <th>dest</th>\n",
       "      <th>airline</th>\n",
       "      <th>flights</th>\n",
       "      <th>onTimePerf</th>\n",
       "      <th>delayAvg</th>\n",
       "      <th>year</th>\n",
       "    </tr>\n",
       "  </thead>\n",
       "  <tbody>\n",
       "    <tr>\n",
       "      <th>0</th>\n",
       "      <td>LHR</td>\n",
       "      <td>ORD</td>\n",
       "      <td>AA</td>\n",
       "      <td>2490</td>\n",
       "      <td>66.33</td>\n",
       "      <td>21.11</td>\n",
       "      <td>2010</td>\n",
       "    </tr>\n",
       "    <tr>\n",
       "      <th>1</th>\n",
       "      <td>LHR</td>\n",
       "      <td>ORD</td>\n",
       "      <td>BA</td>\n",
       "      <td>1413</td>\n",
       "      <td>57.63</td>\n",
       "      <td>23.30</td>\n",
       "      <td>2010</td>\n",
       "    </tr>\n",
       "    <tr>\n",
       "      <th>2</th>\n",
       "      <td>LHR</td>\n",
       "      <td>ORD</td>\n",
       "      <td>UA</td>\n",
       "      <td>2105</td>\n",
       "      <td>73.24</td>\n",
       "      <td>14.57</td>\n",
       "      <td>2010</td>\n",
       "    </tr>\n",
       "    <tr>\n",
       "      <th>3</th>\n",
       "      <td>LHR</td>\n",
       "      <td>ORD</td>\n",
       "      <td>VS</td>\n",
       "      <td>218</td>\n",
       "      <td>77.06</td>\n",
       "      <td>11.10</td>\n",
       "      <td>2010</td>\n",
       "    </tr>\n",
       "    <tr>\n",
       "      <th>4</th>\n",
       "      <td>LHR</td>\n",
       "      <td>LAX</td>\n",
       "      <td>AA</td>\n",
       "      <td>706</td>\n",
       "      <td>66.38</td>\n",
       "      <td>17.66</td>\n",
       "      <td>2010</td>\n",
       "    </tr>\n",
       "  </tbody>\n",
       "</table>\n",
       "</div>"
      ],
      "text/plain": [
       "  source dest airline  flights  onTimePerf  delayAvg  year\n",
       "0    LHR  ORD      AA     2490       66.33     21.11  2010\n",
       "1    LHR  ORD      BA     1413       57.63     23.30  2010\n",
       "2    LHR  ORD      UA     2105       73.24     14.57  2010\n",
       "3    LHR  ORD      VS      218       77.06     11.10  2010\n",
       "4    LHR  LAX      AA      706       66.38     17.66  2010"
      ]
     },
     "execution_count": 58,
     "metadata": {},
     "output_type": "execute_result"
    }
   ],
   "source": [
    "file_path = 'C:/Users/G good/Desktop/Msc-CS/big d/Lab/Ass1/Lukas/flights.csv'\n",
    "flight = pd.read_csv(file_path)\n",
    "flight.head()\n"
   ]
  },
  {
   "cell_type": "markdown",
   "metadata": {},
   "source": [
    "## 1] Bar Plot - Numerical to Categorical"
   ]
  },
  {
   "cell_type": "code",
   "execution_count": 62,
   "metadata": {},
   "outputs": [
    {
     "data": {
      "text/html": [
       "<div>\n",
       "<style scoped>\n",
       "    .dataframe tbody tr th:only-of-type {\n",
       "        vertical-align: middle;\n",
       "    }\n",
       "\n",
       "    .dataframe tbody tr th {\n",
       "        vertical-align: top;\n",
       "    }\n",
       "\n",
       "    .dataframe thead th {\n",
       "        text-align: right;\n",
       "    }\n",
       "</style>\n",
       "<table border=\"1\" class=\"dataframe\">\n",
       "  <thead>\n",
       "    <tr style=\"text-align: right;\">\n",
       "      <th></th>\n",
       "      <th>Unnamed: 0</th>\n",
       "      <th>Unnamed: 1</th>\n",
       "      <th>Unnamed: 2</th>\n",
       "      <th>Unnamed: 3</th>\n",
       "      <th>Unnamed: 4</th>\n",
       "      <th>Unnamed: 5</th>\n",
       "      <th>Unnamed: 6</th>\n",
       "      <th>Unnamed: 7</th>\n",
       "      <th>Unnamed: 8</th>\n",
       "      <th>Unnamed: 9</th>\n",
       "      <th>...</th>\n",
       "      <th>Unnamed: 13</th>\n",
       "      <th>Unnamed: 14</th>\n",
       "      <th>Unnamed: 15</th>\n",
       "      <th>Unnamed: 16</th>\n",
       "      <th>Unnamed: 17</th>\n",
       "      <th>Unnamed: 18</th>\n",
       "      <th>Unnamed: 19</th>\n",
       "      <th>Unnamed: 20</th>\n",
       "      <th>Unnamed: 21</th>\n",
       "      <th>Unnamed: 22</th>\n",
       "    </tr>\n",
       "  </thead>\n",
       "  <tbody>\n",
       "    <tr>\n",
       "      <th>0</th>\n",
       "      <td>Federation</td>\n",
       "      <td>Date</td>\n",
       "      <td>MeetCountry</td>\n",
       "      <td>MeetState</td>\n",
       "      <td>MeetTown</td>\n",
       "      <td>MeetName</td>\n",
       "      <td>Formula</td>\n",
       "      <td>RuleSet</td>\n",
       "      <td>NaN</td>\n",
       "      <td>NaN</td>\n",
       "      <td>...</td>\n",
       "      <td>NaN</td>\n",
       "      <td>NaN</td>\n",
       "      <td>NaN</td>\n",
       "      <td>NaN</td>\n",
       "      <td>NaN</td>\n",
       "      <td>NaN</td>\n",
       "      <td>NaN</td>\n",
       "      <td>NaN</td>\n",
       "      <td>NaN</td>\n",
       "      <td>NaN</td>\n",
       "    </tr>\n",
       "    <tr>\n",
       "      <th>1</th>\n",
       "      <td>APL</td>\n",
       "      <td>2023-03-12</td>\n",
       "      <td>NaN</td>\n",
       "      <td>Queensland</td>\n",
       "      <td>Cairns</td>\n",
       "      <td>APL Cairns Cup</td>\n",
       "      <td>Dots</td>\n",
       "      <td>CombineRawAndWraps CombineSingleAndMulti</td>\n",
       "      <td>NaN</td>\n",
       "      <td>NaN</td>\n",
       "      <td>...</td>\n",
       "      <td>NaN</td>\n",
       "      <td>NaN</td>\n",
       "      <td>NaN</td>\n",
       "      <td>NaN</td>\n",
       "      <td>NaN</td>\n",
       "      <td>NaN</td>\n",
       "      <td>NaN</td>\n",
       "      <td>NaN</td>\n",
       "      <td>NaN</td>\n",
       "      <td>NaN</td>\n",
       "    </tr>\n",
       "    <tr>\n",
       "      <th>2</th>\n",
       "      <td>NaN</td>\n",
       "      <td>NaN</td>\n",
       "      <td>NaN</td>\n",
       "      <td>NaN</td>\n",
       "      <td>NaN</td>\n",
       "      <td>NaN</td>\n",
       "      <td>NaN</td>\n",
       "      <td>NaN</td>\n",
       "      <td>NaN</td>\n",
       "      <td>NaN</td>\n",
       "      <td>...</td>\n",
       "      <td>NaN</td>\n",
       "      <td>NaN</td>\n",
       "      <td>NaN</td>\n",
       "      <td>NaN</td>\n",
       "      <td>NaN</td>\n",
       "      <td>NaN</td>\n",
       "      <td>NaN</td>\n",
       "      <td>NaN</td>\n",
       "      <td>NaN</td>\n",
       "      <td>NaN</td>\n",
       "    </tr>\n",
       "    <tr>\n",
       "      <th>3</th>\n",
       "      <td>Place</td>\n",
       "      <td>Name</td>\n",
       "      <td>Sex</td>\n",
       "      <td>Age</td>\n",
       "      <td>Equipment</td>\n",
       "      <td>Division</td>\n",
       "      <td>BodyweightKg</td>\n",
       "      <td>WeightClassKg</td>\n",
       "      <td>Squat1Kg</td>\n",
       "      <td>Squat2Kg</td>\n",
       "      <td>...</td>\n",
       "      <td>Bench2Kg</td>\n",
       "      <td>Bench3Kg</td>\n",
       "      <td>Best3BenchKg</td>\n",
       "      <td>Deadlift1Kg</td>\n",
       "      <td>Deadlift2Kg</td>\n",
       "      <td>Deadlift3Kg</td>\n",
       "      <td>Best3DeadliftKg</td>\n",
       "      <td>TotalKg</td>\n",
       "      <td>Points</td>\n",
       "      <td>Event</td>\n",
       "    </tr>\n",
       "    <tr>\n",
       "      <th>4</th>\n",
       "      <td>1</td>\n",
       "      <td>Grace Harding</td>\n",
       "      <td>F</td>\n",
       "      <td>16</td>\n",
       "      <td>Raw</td>\n",
       "      <td>J15-19</td>\n",
       "      <td>67.45</td>\n",
       "      <td>67.5</td>\n",
       "      <td>100</td>\n",
       "      <td>110</td>\n",
       "      <td>...</td>\n",
       "      <td>-87.5</td>\n",
       "      <td>-87.5</td>\n",
       "      <td>82.5</td>\n",
       "      <td>120</td>\n",
       "      <td>130</td>\n",
       "      <td>140</td>\n",
       "      <td>140</td>\n",
       "      <td>337.5</td>\n",
       "      <td>348.58</td>\n",
       "      <td>SBD</td>\n",
       "    </tr>\n",
       "  </tbody>\n",
       "</table>\n",
       "<p>5 rows × 23 columns</p>\n",
       "</div>"
      ],
      "text/plain": [
       "   Unnamed: 0     Unnamed: 1   Unnamed: 2  Unnamed: 3 Unnamed: 4  \\\n",
       "0  Federation           Date  MeetCountry   MeetState   MeetTown   \n",
       "1         APL     2023-03-12          NaN  Queensland     Cairns   \n",
       "2         NaN            NaN          NaN         NaN        NaN   \n",
       "3       Place           Name          Sex         Age  Equipment   \n",
       "4           1  Grace Harding            F          16        Raw   \n",
       "\n",
       "       Unnamed: 5    Unnamed: 6                                Unnamed: 7  \\\n",
       "0        MeetName       Formula                                   RuleSet   \n",
       "1  APL Cairns Cup          Dots  CombineRawAndWraps CombineSingleAndMulti   \n",
       "2             NaN           NaN                                       NaN   \n",
       "3        Division  BodyweightKg                             WeightClassKg   \n",
       "4          J15-19         67.45                                      67.5   \n",
       "\n",
       "  Unnamed: 8 Unnamed: 9  ... Unnamed: 13 Unnamed: 14   Unnamed: 15  \\\n",
       "0        NaN        NaN  ...         NaN         NaN           NaN   \n",
       "1        NaN        NaN  ...         NaN         NaN           NaN   \n",
       "2        NaN        NaN  ...         NaN         NaN           NaN   \n",
       "3   Squat1Kg   Squat2Kg  ...    Bench2Kg    Bench3Kg  Best3BenchKg   \n",
       "4        100        110  ...       -87.5       -87.5          82.5   \n",
       "\n",
       "   Unnamed: 16  Unnamed: 17  Unnamed: 18      Unnamed: 19 Unnamed: 20  \\\n",
       "0          NaN          NaN          NaN              NaN         NaN   \n",
       "1          NaN          NaN          NaN              NaN         NaN   \n",
       "2          NaN          NaN          NaN              NaN         NaN   \n",
       "3  Deadlift1Kg  Deadlift2Kg  Deadlift3Kg  Best3DeadliftKg     TotalKg   \n",
       "4          120          130          140              140       337.5   \n",
       "\n",
       "  Unnamed: 21 Unnamed: 22  \n",
       "0         NaN         NaN  \n",
       "1         NaN         NaN  \n",
       "2         NaN         NaN  \n",
       "3      Points       Event  \n",
       "4      348.58         SBD  \n",
       "\n",
       "[5 rows x 23 columns]"
      ]
     },
     "execution_count": 62,
     "metadata": {},
     "output_type": "execute_result"
    }
   ],
   "source": [
    "titanic.head()"
   ]
  },
  {
   "cell_type": "code",
   "execution_count": 94,
   "metadata": {},
   "outputs": [
    {
     "data": {
      "image/png": "[encoded data removed]",
      "text/plain": [
       "<Figure size 640x480 with 1 Axes>"
      ]
     },
     "metadata": {},
     "output_type": "display_data"
    }
   ],
   "source": [
    "import pandas as pd\n",
    "import seaborn as sns\n",
    "import matplotlib.pyplot as plt\n",
    "\n",
    "# Load the titanic dataset using pandas\n",
    "file_path = 'C:/Users/G good/Desktop/Msc-CS/big d/Lab/Ass1/Lukas/titanic.csv'\n",
    "titanic = pd.read_csv(file_path)\n",
    "\n",
    "# Create a bar plot\n",
    "sns.barplot(x=\"Pclass\", y=\"Age\", data=titanic)\n",
    "\n",
    "# Show the plot\n",
    "plt.show()\n"
   ]
  },
  {
   "cell_type": "code",
   "execution_count": null,
   "metadata": {},
   "outputs": [],
   "source": []
  },
  {
   "cell_type": "code",
   "execution_count": 65,
   "metadata": {},
   "outputs": [
    {
     "data": {
      "text/html": [
       "<div>\n",
       "<style scoped>\n",
       "    .dataframe tbody tr th:only-of-type {\n",
       "        vertical-align: middle;\n",
       "    }\n",
       "\n",
       "    .dataframe tbody tr th {\n",
       "        vertical-align: top;\n",
       "    }\n",
       "\n",
       "    .dataframe thead th {\n",
       "        text-align: right;\n",
       "    }\n",
       "</style>\n",
       "<table border=\"1\" class=\"dataframe\">\n",
       "  <thead>\n",
       "    <tr style=\"text-align: right;\">\n",
       "      <th></th>\n",
       "      <th>align</th>\n",
       "      <th>choice</th>\n",
       "      <th>time</th>\n",
       "      <th>coherence</th>\n",
       "      <th>firing_rate</th>\n",
       "    </tr>\n",
       "  </thead>\n",
       "  <tbody>\n",
       "    <tr>\n",
       "      <th>0</th>\n",
       "      <td>dots</td>\n",
       "      <td>T1</td>\n",
       "      <td>-80</td>\n",
       "      <td>0.0</td>\n",
       "      <td>33.189967</td>\n",
       "    </tr>\n",
       "    <tr>\n",
       "      <th>1</th>\n",
       "      <td>dots</td>\n",
       "      <td>T1</td>\n",
       "      <td>-80</td>\n",
       "      <td>3.2</td>\n",
       "      <td>31.691726</td>\n",
       "    </tr>\n",
       "    <tr>\n",
       "      <th>2</th>\n",
       "      <td>dots</td>\n",
       "      <td>T1</td>\n",
       "      <td>-80</td>\n",
       "      <td>6.4</td>\n",
       "      <td>34.279840</td>\n",
       "    </tr>\n",
       "    <tr>\n",
       "      <th>3</th>\n",
       "      <td>dots</td>\n",
       "      <td>T1</td>\n",
       "      <td>-80</td>\n",
       "      <td>12.8</td>\n",
       "      <td>32.631874</td>\n",
       "    </tr>\n",
       "    <tr>\n",
       "      <th>4</th>\n",
       "      <td>dots</td>\n",
       "      <td>T1</td>\n",
       "      <td>-80</td>\n",
       "      <td>25.6</td>\n",
       "      <td>35.060487</td>\n",
       "    </tr>\n",
       "  </tbody>\n",
       "</table>\n",
       "</div>"
      ],
      "text/plain": [
       "  align choice  time  coherence  firing_rate\n",
       "0  dots     T1   -80        0.0    33.189967\n",
       "1  dots     T1   -80        3.2    31.691726\n",
       "2  dots     T1   -80        6.4    34.279840\n",
       "3  dots     T1   -80       12.8    32.631874\n",
       "4  dots     T1   -80       25.6    35.060487"
      ]
     },
     "execution_count": 65,
     "metadata": {},
     "output_type": "execute_result"
    }
   ],
   "source": [
    "dots = sns.load_dataset(\"dots\")\n",
    "dots.head()"
   ]
  },
  {
   "cell_type": "code",
   "execution_count": 99,
   "metadata": {},
   "outputs": [
    {
     "data": {
      "text/html": [
       "<div>\n",
       "<style scoped>\n",
       "    .dataframe tbody tr th:only-of-type {\n",
       "        vertical-align: middle;\n",
       "    }\n",
       "\n",
       "    .dataframe tbody tr th {\n",
       "        vertical-align: top;\n",
       "    }\n",
       "\n",
       "    .dataframe thead th {\n",
       "        text-align: right;\n",
       "    }\n",
       "</style>\n",
       "<table border=\"1\" class=\"dataframe\">\n",
       "  <thead>\n",
       "    <tr style=\"text-align: right;\">\n",
       "      <th></th>\n",
       "      <th>align</th>\n",
       "      <th>choice</th>\n",
       "      <th>time</th>\n",
       "      <th>coherence</th>\n",
       "      <th>firing_rate</th>\n",
       "    </tr>\n",
       "  </thead>\n",
       "  <tbody>\n",
       "    <tr>\n",
       "      <th>695</th>\n",
       "      <td>sacc</td>\n",
       "      <td>T2</td>\n",
       "      <td>-200</td>\n",
       "      <td>12.8</td>\n",
       "      <td>36.537503</td>\n",
       "    </tr>\n",
       "    <tr>\n",
       "      <th>359</th>\n",
       "      <td>dots</td>\n",
       "      <td>T2</td>\n",
       "      <td>500</td>\n",
       "      <td>3.2</td>\n",
       "      <td>38.703894</td>\n",
       "    </tr>\n",
       "    <tr>\n",
       "      <th>210</th>\n",
       "      <td>dots</td>\n",
       "      <td>T2</td>\n",
       "      <td>-40</td>\n",
       "      <td>25.6</td>\n",
       "      <td>34.705882</td>\n",
       "    </tr>\n",
       "    <tr>\n",
       "      <th>687</th>\n",
       "      <td>sacc</td>\n",
       "      <td>T2</td>\n",
       "      <td>-220</td>\n",
       "      <td>0.0</td>\n",
       "      <td>44.249579</td>\n",
       "    </tr>\n",
       "    <tr>\n",
       "      <th>582</th>\n",
       "      <td>sacc</td>\n",
       "      <td>T1</td>\n",
       "      <td>200</td>\n",
       "      <td>0.0</td>\n",
       "      <td>10.458167</td>\n",
       "    </tr>\n",
       "    <tr>\n",
       "      <th>570</th>\n",
       "      <td>sacc</td>\n",
       "      <td>T1</td>\n",
       "      <td>160</td>\n",
       "      <td>0.0</td>\n",
       "      <td>20.368526</td>\n",
       "    </tr>\n",
       "    <tr>\n",
       "      <th>816</th>\n",
       "      <td>sacc</td>\n",
       "      <td>T2</td>\n",
       "      <td>200</td>\n",
       "      <td>25.6</td>\n",
       "      <td>29.950980</td>\n",
       "    </tr>\n",
       "    <tr>\n",
       "      <th>467</th>\n",
       "      <td>sacc</td>\n",
       "      <td>T1</td>\n",
       "      <td>-200</td>\n",
       "      <td>12.8</td>\n",
       "      <td>55.851347</td>\n",
       "    </tr>\n",
       "    <tr>\n",
       "      <th>115</th>\n",
       "      <td>dots</td>\n",
       "      <td>T1</td>\n",
       "      <td>300</td>\n",
       "      <td>3.2</td>\n",
       "      <td>47.740331</td>\n",
       "    </tr>\n",
       "    <tr>\n",
       "      <th>44</th>\n",
       "      <td>dots</td>\n",
       "      <td>T1</td>\n",
       "      <td>60</td>\n",
       "      <td>6.4</td>\n",
       "      <td>38.202934</td>\n",
       "    </tr>\n",
       "  </tbody>\n",
       "</table>\n",
       "</div>"
      ],
      "text/plain": [
       "    align choice  time  coherence  firing_rate\n",
       "695  sacc     T2  -200       12.8    36.537503\n",
       "359  dots     T2   500        3.2    38.703894\n",
       "210  dots     T2   -40       25.6    34.705882\n",
       "687  sacc     T2  -220        0.0    44.249579\n",
       "582  sacc     T1   200        0.0    10.458167\n",
       "570  sacc     T1   160        0.0    20.368526\n",
       "816  sacc     T2   200       25.6    29.950980\n",
       "467  sacc     T1  -200       12.8    55.851347\n",
       "115  dots     T1   300        3.2    47.740331\n",
       "44   dots     T1    60        6.4    38.202934"
      ]
     },
     "execution_count": 99,
     "metadata": {},
     "output_type": "execute_result"
    }
   ],
   "source": [
    "dots.sample(10)"
   ]
  },
  {
   "cell_type": "code",
   "execution_count": 68,
   "metadata": {},
   "outputs": [
    {
     "name": "stderr",
     "output_type": "stream",
     "text": [
      "C:\\Users\\G good\\AppData\\Local\\Temp\\ipykernel_13436\\4157463539.py:1: UserWarning: \n",
      "\n",
      "`distplot` is a deprecated function and will be removed in seaborn v0.14.0.\n",
      "\n",
      "Please adapt your code to use either `displot` (a figure-level function with\n",
      "similar flexibility) or `histplot` (an axes-level function for histograms).\n",
      "\n",
      "For a guide to updating your code to use the new functions, please see\n",
      "https://gist.github.com/mwaskom/de44147ed2974457ad6372750bbe5751\n",
      "\n",
      "  sns.distplot(dots[\"time\"], bins = 25)\n"
     ]
    },
    {
     "data": {
      "text/plain": [
       "<Axes: xlabel='time', ylabel='Density'>"
      ]
     },
     "execution_count": 68,
     "metadata": {},
     "output_type": "execute_result"
    },
    {
     "data": {
      "image/png": "[encoded data removed]",
      "text/plain": [
       "<Figure size 640x480 with 1 Axes>"
      ]
     },
     "metadata": {},
     "output_type": "display_data"
    }
   ],
   "source": [
    "sns.distplot(dots[\"time\"], bins = 25)"
   ]
  },
  {
   "cell_type": "code",
   "execution_count": 69,
   "metadata": {},
   "outputs": [
    {
     "name": "stdout",
     "output_type": "stream",
     "text": [
      "-600\n",
      "720\n"
     ]
    }
   ],
   "source": [
    "print( dots[\"time\"].min() )\n",
    "print( dots[\"time\"].max() )"
   ]
  },
  {
   "cell_type": "code",
   "execution_count": 70,
   "metadata": {},
   "outputs": [
    {
     "data": {
      "text/plain": [
       "<Axes: >"
      ]
     },
     "execution_count": 70,
     "metadata": {},
     "output_type": "execute_result"
    },
    {
     "data": {
      "image/png": "[encoded data removed]",
      "text/plain": [
       "<Figure size 640x480 with 1 Axes>"
      ]
     },
     "metadata": {},
     "output_type": "display_data"
    }
   ],
   "source": [
    "sns.boxplot(dots[\"time\"])"
   ]
  },
  {
   "cell_type": "code",
   "execution_count": null,
   "metadata": {},
   "outputs": [],
   "source": []
  },
  {
   "cell_type": "code",
   "execution_count": 71,
   "metadata": {},
   "outputs": [
    {
     "data": {
      "text/plain": [
       "T2    430\n",
       "T1    418\n",
       "Name: choice, dtype: int64"
      ]
     },
     "execution_count": 71,
     "metadata": {},
     "output_type": "execute_result"
    }
   ],
   "source": [
    "dots[\"choice\"].value_counts()"
   ]
  },
  {
   "cell_type": "code",
   "execution_count": 72,
   "metadata": {},
   "outputs": [
    {
     "data": {
      "text/html": [
       "<div>\n",
       "<style scoped>\n",
       "    .dataframe tbody tr th:only-of-type {\n",
       "        vertical-align: middle;\n",
       "    }\n",
       "\n",
       "    .dataframe tbody tr th {\n",
       "        vertical-align: top;\n",
       "    }\n",
       "\n",
       "    .dataframe thead th {\n",
       "        text-align: right;\n",
       "    }\n",
       "</style>\n",
       "<table border=\"1\" class=\"dataframe\">\n",
       "  <thead>\n",
       "    <tr style=\"text-align: right;\">\n",
       "      <th></th>\n",
       "      <th>align</th>\n",
       "      <th>choice</th>\n",
       "      <th>time</th>\n",
       "      <th>coherence</th>\n",
       "      <th>firing_rate</th>\n",
       "    </tr>\n",
       "  </thead>\n",
       "  <tbody>\n",
       "    <tr>\n",
       "      <th>0</th>\n",
       "      <td>dots</td>\n",
       "      <td>T1</td>\n",
       "      <td>-80</td>\n",
       "      <td>0.0</td>\n",
       "      <td>33.189967</td>\n",
       "    </tr>\n",
       "    <tr>\n",
       "      <th>1</th>\n",
       "      <td>dots</td>\n",
       "      <td>T1</td>\n",
       "      <td>-80</td>\n",
       "      <td>3.2</td>\n",
       "      <td>31.691726</td>\n",
       "    </tr>\n",
       "    <tr>\n",
       "      <th>2</th>\n",
       "      <td>dots</td>\n",
       "      <td>T1</td>\n",
       "      <td>-80</td>\n",
       "      <td>6.4</td>\n",
       "      <td>34.279840</td>\n",
       "    </tr>\n",
       "    <tr>\n",
       "      <th>3</th>\n",
       "      <td>dots</td>\n",
       "      <td>T1</td>\n",
       "      <td>-80</td>\n",
       "      <td>12.8</td>\n",
       "      <td>32.631874</td>\n",
       "    </tr>\n",
       "    <tr>\n",
       "      <th>4</th>\n",
       "      <td>dots</td>\n",
       "      <td>T1</td>\n",
       "      <td>-80</td>\n",
       "      <td>25.6</td>\n",
       "      <td>35.060487</td>\n",
       "    </tr>\n",
       "  </tbody>\n",
       "</table>\n",
       "</div>"
      ],
      "text/plain": [
       "  align choice  time  coherence  firing_rate\n",
       "0  dots     T1   -80        0.0    33.189967\n",
       "1  dots     T1   -80        3.2    31.691726\n",
       "2  dots     T1   -80        6.4    34.279840\n",
       "3  dots     T1   -80       12.8    32.631874\n",
       "4  dots     T1   -80       25.6    35.060487"
      ]
     },
     "execution_count": 72,
     "metadata": {},
     "output_type": "execute_result"
    }
   ],
   "source": [
    "dots.head()"
   ]
  },
  {
   "cell_type": "code",
   "execution_count": 73,
   "metadata": {},
   "outputs": [
    {
     "data": {
      "text/plain": [
       "0.0     174\n",
       "3.2     170\n",
       "6.4     156\n",
       "12.8    142\n",
       "25.6    116\n",
       "51.2     90\n",
       "Name: coherence, dtype: int64"
      ]
     },
     "execution_count": 73,
     "metadata": {},
     "output_type": "execute_result"
    }
   ],
   "source": [
    "dots.coherence.value_counts()"
   ]
  },
  {
   "cell_type": "code",
   "execution_count": 74,
   "metadata": {},
   "outputs": [
    {
     "data": {
      "text/plain": [
       "<seaborn.axisgrid.FacetGrid at 0x21fcfb9c190>"
      ]
     },
     "execution_count": 74,
     "metadata": {},
     "output_type": "execute_result"
    },
    {
     "data": {
      "image/png": "[encoded data removed]",
      "text/plain": [
       "<Figure size 1094.47x500 with 2 Axes>"
      ]
     },
     "metadata": {},
     "output_type": "display_data"
    }
   ],
   "source": [
    "dots = sns.load_dataset(\"dots\")\n",
    "sns.relplot(\n",
    "    data=dots, kind=\"line\",\n",
    "    x=\"time\", y=\"firing_rate\", col=\"align\",\n",
    "    hue=\"choice\", size=\"coherence\", style=\"choice\",\n",
    "    facet_kws=dict(sharex=False),\n",
    ")"
   ]
  },
  {
   "cell_type": "code",
   "execution_count": 75,
   "metadata": {},
   "outputs": [
    {
     "data": {
      "text/html": [
       "<div>\n",
       "<style scoped>\n",
       "    .dataframe tbody tr th:only-of-type {\n",
       "        vertical-align: middle;\n",
       "    }\n",
       "\n",
       "    .dataframe tbody tr th {\n",
       "        vertical-align: top;\n",
       "    }\n",
       "\n",
       "    .dataframe thead th {\n",
       "        text-align: right;\n",
       "    }\n",
       "</style>\n",
       "<table border=\"1\" class=\"dataframe\">\n",
       "  <thead>\n",
       "    <tr style=\"text-align: right;\">\n",
       "      <th></th>\n",
       "      <th>created_utc</th>\n",
       "      <th>score</th>\n",
       "      <th>domain</th>\n",
       "      <th>id</th>\n",
       "      <th>title</th>\n",
       "      <th>author</th>\n",
       "      <th>ups</th>\n",
       "      <th>downs</th>\n",
       "      <th>num_comments</th>\n",
       "      <th>permalink</th>\n",
       "      <th>...</th>\n",
       "      <th>over_18</th>\n",
       "      <th>thumbnail</th>\n",
       "      <th>subreddit_id</th>\n",
       "      <th>edited</th>\n",
       "      <th>link_flair_css_class</th>\n",
       "      <th>author_flair_css_class</th>\n",
       "      <th>is_self</th>\n",
       "      <th>name</th>\n",
       "      <th>url</th>\n",
       "      <th>distinguished</th>\n",
       "    </tr>\n",
       "  </thead>\n",
       "  <tbody>\n",
       "    <tr>\n",
       "      <th>0</th>\n",
       "      <td>1.337440e+09</td>\n",
       "      <td>95</td>\n",
       "      <td>self.relationship_tips</td>\n",
       "      <td>tuqvq</td>\n",
       "      <td>Those little comments *do* matter.</td>\n",
       "      <td>Gimli_The_Dwarf</td>\n",
       "      <td>103</td>\n",
       "      <td>8</td>\n",
       "      <td>17</td>\n",
       "      <td>http://www.reddit.com/r/relationship_tips/comm...</td>\n",
       "      <td>...</td>\n",
       "      <td>False</td>\n",
       "      <td>NaN</td>\n",
       "      <td>t5_2sa5c</td>\n",
       "      <td>False</td>\n",
       "      <td>NaN</td>\n",
       "      <td>NaN</td>\n",
       "      <td>True</td>\n",
       "      <td>t3_tuqvq</td>\n",
       "      <td>http://www.reddit.com/r/relationship_tips/comm...</td>\n",
       "      <td>NaN</td>\n",
       "    </tr>\n",
       "    <tr>\n",
       "      <th>1</th>\n",
       "      <td>1.324572e+09</td>\n",
       "      <td>84</td>\n",
       "      <td>self.relationship_tips</td>\n",
       "      <td>nmr0g</td>\n",
       "      <td>Concerning a txt I just received...</td>\n",
       "      <td>LukeLukez</td>\n",
       "      <td>89</td>\n",
       "      <td>5</td>\n",
       "      <td>8</td>\n",
       "      <td>http://www.reddit.com/r/relationship_tips/comm...</td>\n",
       "      <td>...</td>\n",
       "      <td>False</td>\n",
       "      <td>NaN</td>\n",
       "      <td>t5_2sa5c</td>\n",
       "      <td>False</td>\n",
       "      <td>NaN</td>\n",
       "      <td>NaN</td>\n",
       "      <td>True</td>\n",
       "      <td>t3_nmr0g</td>\n",
       "      <td>http://www.reddit.com/r/relationship_tips/comm...</td>\n",
       "      <td>NaN</td>\n",
       "    </tr>\n",
       "    <tr>\n",
       "      <th>2</th>\n",
       "      <td>1.331331e+09</td>\n",
       "      <td>80</td>\n",
       "      <td>self.relationship_tips</td>\n",
       "      <td>qphe5</td>\n",
       "      <td>Dr. Seuss's take on love</td>\n",
       "      <td>loveydoveyideas</td>\n",
       "      <td>83</td>\n",
       "      <td>3</td>\n",
       "      <td>5</td>\n",
       "      <td>http://www.reddit.com/r/relationship_tips/comm...</td>\n",
       "      <td>...</td>\n",
       "      <td>False</td>\n",
       "      <td>NaN</td>\n",
       "      <td>t5_2sa5c</td>\n",
       "      <td>False</td>\n",
       "      <td>NaN</td>\n",
       "      <td>NaN</td>\n",
       "      <td>True</td>\n",
       "      <td>t3_qphe5</td>\n",
       "      <td>http://www.reddit.com/r/relationship_tips/comm...</td>\n",
       "      <td>NaN</td>\n",
       "    </tr>\n",
       "    <tr>\n",
       "      <th>3</th>\n",
       "      <td>1.334973e+09</td>\n",
       "      <td>72</td>\n",
       "      <td>self.relationship_tips</td>\n",
       "      <td>skpfv</td>\n",
       "      <td>Relationship Tip: Will solve pretty much every...</td>\n",
       "      <td>Pilot824</td>\n",
       "      <td>84</td>\n",
       "      <td>12</td>\n",
       "      <td>27</td>\n",
       "      <td>http://www.reddit.com/r/relationship_tips/comm...</td>\n",
       "      <td>...</td>\n",
       "      <td>False</td>\n",
       "      <td>NaN</td>\n",
       "      <td>t5_2sa5c</td>\n",
       "      <td>True</td>\n",
       "      <td>NaN</td>\n",
       "      <td>NaN</td>\n",
       "      <td>True</td>\n",
       "      <td>t3_skpfv</td>\n",
       "      <td>http://www.reddit.com/r/relationship_tips/comm...</td>\n",
       "      <td>NaN</td>\n",
       "    </tr>\n",
       "    <tr>\n",
       "      <th>4</th>\n",
       "      <td>1.371770e+09</td>\n",
       "      <td>67</td>\n",
       "      <td>self.relationship_tips</td>\n",
       "      <td>1grcz9</td>\n",
       "      <td>A heartbreakingly realistic essay on unequal r...</td>\n",
       "      <td>dediaadia</td>\n",
       "      <td>79</td>\n",
       "      <td>12</td>\n",
       "      <td>8</td>\n",
       "      <td>http://www.reddit.com/r/relationship_tips/comm...</td>\n",
       "      <td>...</td>\n",
       "      <td>False</td>\n",
       "      <td>NaN</td>\n",
       "      <td>t5_2sa5c</td>\n",
       "      <td>False</td>\n",
       "      <td>NaN</td>\n",
       "      <td>NaN</td>\n",
       "      <td>True</td>\n",
       "      <td>t3_1grcz9</td>\n",
       "      <td>http://www.reddit.com/r/relationship_tips/comm...</td>\n",
       "      <td>NaN</td>\n",
       "    </tr>\n",
       "  </tbody>\n",
       "</table>\n",
       "<p>5 rows × 22 columns</p>\n",
       "</div>"
      ],
      "text/plain": [
       "    created_utc  score                  domain      id  \\\n",
       "0  1.337440e+09     95  self.relationship_tips   tuqvq   \n",
       "1  1.324572e+09     84  self.relationship_tips   nmr0g   \n",
       "2  1.331331e+09     80  self.relationship_tips   qphe5   \n",
       "3  1.334973e+09     72  self.relationship_tips   skpfv   \n",
       "4  1.371770e+09     67  self.relationship_tips  1grcz9   \n",
       "\n",
       "                                               title           author  ups  \\\n",
       "0                Those little comments *do* matter.   Gimli_The_Dwarf  103   \n",
       "1                Concerning a txt I just received...        LukeLukez   89   \n",
       "2                           Dr. Seuss's take on love  loveydoveyideas   83   \n",
       "3  Relationship Tip: Will solve pretty much every...         Pilot824   84   \n",
       "4  A heartbreakingly realistic essay on unequal r...        dediaadia   79   \n",
       "\n",
       "   downs  num_comments                                          permalink  \\\n",
       "0      8            17  http://www.reddit.com/r/relationship_tips/comm...   \n",
       "1      5             8  http://www.reddit.com/r/relationship_tips/comm...   \n",
       "2      3             5  http://www.reddit.com/r/relationship_tips/comm...   \n",
       "3     12            27  http://www.reddit.com/r/relationship_tips/comm...   \n",
       "4     12             8  http://www.reddit.com/r/relationship_tips/comm...   \n",
       "\n",
       "   ... over_18 thumbnail  subreddit_id  edited link_flair_css_class  \\\n",
       "0  ...   False       NaN      t5_2sa5c   False                  NaN   \n",
       "1  ...   False       NaN      t5_2sa5c   False                  NaN   \n",
       "2  ...   False       NaN      t5_2sa5c   False                  NaN   \n",
       "3  ...   False       NaN      t5_2sa5c    True                  NaN   \n",
       "4  ...   False       NaN      t5_2sa5c   False                  NaN   \n",
       "\n",
       "  author_flair_css_class is_self       name  \\\n",
       "0                    NaN    True   t3_tuqvq   \n",
       "1                    NaN    True   t3_nmr0g   \n",
       "2                    NaN    True   t3_qphe5   \n",
       "3                    NaN    True   t3_skpfv   \n",
       "4                    NaN    True  t3_1grcz9   \n",
       "\n",
       "                                                 url distinguished  \n",
       "0  http://www.reddit.com/r/relationship_tips/comm...           NaN  \n",
       "1  http://www.reddit.com/r/relationship_tips/comm...           NaN  \n",
       "2  http://www.reddit.com/r/relationship_tips/comm...           NaN  \n",
       "3  http://www.reddit.com/r/relationship_tips/comm...           NaN  \n",
       "4  http://www.reddit.com/r/relationship_tips/comm...           NaN  \n",
       "\n",
       "[5 rows x 22 columns]"
      ]
     },
     "execution_count": 75,
     "metadata": {},
     "output_type": "execute_result"
    }
   ],
   "source": [
    "tips.head()"
   ]
  },
  {
   "cell_type": "code",
   "execution_count": 76,
   "metadata": {},
   "outputs": [
    {
     "name": "stdout",
     "output_type": "stream",
     "text": [
      "<class 'pandas.core.frame.DataFrame'>\n",
      "RangeIndex: 995 entries, 0 to 994\n",
      "Data columns (total 22 columns):\n",
      " #   Column                  Non-Null Count  Dtype  \n",
      "---  ------                  --------------  -----  \n",
      " 0   created_utc             995 non-null    float64\n",
      " 1   score                   995 non-null    int64  \n",
      " 2   domain                  995 non-null    object \n",
      " 3   id                      995 non-null    object \n",
      " 4   title                   995 non-null    object \n",
      " 5   author                  934 non-null    object \n",
      " 6   ups                     995 non-null    int64  \n",
      " 7   downs                   995 non-null    int64  \n",
      " 8   num_comments            995 non-null    int64  \n",
      " 9   permalink               995 non-null    object \n",
      " 10  selftext                974 non-null    object \n",
      " 11  link_flair_text         1 non-null      object \n",
      " 12  over_18                 995 non-null    bool   \n",
      " 13  thumbnail               0 non-null      float64\n",
      " 14  subreddit_id            995 non-null    object \n",
      " 15  edited                  995 non-null    object \n",
      " 16  link_flair_css_class    1 non-null      object \n",
      " 17  author_flair_css_class  0 non-null      float64\n",
      " 18  is_self                 995 non-null    bool   \n",
      " 19  name                    995 non-null    object \n",
      " 20  url                     995 non-null    object \n",
      " 21  distinguished           2 non-null      object \n",
      "dtypes: bool(2), float64(3), int64(4), object(13)\n",
      "memory usage: 157.5+ KB\n"
     ]
    }
   ],
   "source": [
    "tips.info()"
   ]
  },
  {
   "cell_type": "code",
   "execution_count": 81,
   "metadata": {},
   "outputs": [
    {
     "name": "stdout",
     "output_type": "stream",
     "text": [
      "Index(['created_utc', 'score', 'domain', 'id', 'title', 'author', 'ups',\n",
      "       'downs', 'num_comments', 'permalink', 'selftext', 'link_flair_text',\n",
      "       'over_18', 'thumbnail', 'subreddit_id', 'edited',\n",
      "       'link_flair_css_class', 'author_flair_css_class', 'is_self', 'name',\n",
      "       'url', 'distinguished'],\n",
      "      dtype='object')\n",
      "    created_utc  score                  domain      id  \\\n",
      "0  1.337440e+09     95  self.relationship_tips   tuqvq   \n",
      "1  1.324572e+09     84  self.relationship_tips   nmr0g   \n",
      "2  1.331331e+09     80  self.relationship_tips   qphe5   \n",
      "3  1.334973e+09     72  self.relationship_tips   skpfv   \n",
      "4  1.371770e+09     67  self.relationship_tips  1grcz9   \n",
      "\n",
      "                                               title           author  ups  \\\n",
      "0                Those little comments *do* matter.   Gimli_The_Dwarf  103   \n",
      "1                Concerning a txt I just received...        LukeLukez   89   \n",
      "2                           Dr. Seuss's take on love  loveydoveyideas   83   \n",
      "3  Relationship Tip: Will solve pretty much every...         Pilot824   84   \n",
      "4  A heartbreakingly realistic essay on unequal r...        dediaadia   79   \n",
      "\n",
      "   downs  num_comments                                          permalink  \\\n",
      "0      8            17  http://www.reddit.com/r/relationship_tips/comm...   \n",
      "1      5             8  http://www.reddit.com/r/relationship_tips/comm...   \n",
      "2      3             5  http://www.reddit.com/r/relationship_tips/comm...   \n",
      "3     12            27  http://www.reddit.com/r/relationship_tips/comm...   \n",
      "4     12             8  http://www.reddit.com/r/relationship_tips/comm...   \n",
      "\n",
      "   ... over_18 thumbnail  subreddit_id  edited link_flair_css_class  \\\n",
      "0  ...   False       NaN      t5_2sa5c   False                  NaN   \n",
      "1  ...   False       NaN      t5_2sa5c   False                  NaN   \n",
      "2  ...   False       NaN      t5_2sa5c   False                  NaN   \n",
      "3  ...   False       NaN      t5_2sa5c    True                  NaN   \n",
      "4  ...   False       NaN      t5_2sa5c   False                  NaN   \n",
      "\n",
      "  author_flair_css_class is_self       name  \\\n",
      "0                    NaN    True   t3_tuqvq   \n",
      "1                    NaN    True   t3_nmr0g   \n",
      "2                    NaN    True   t3_qphe5   \n",
      "3                    NaN    True   t3_skpfv   \n",
      "4                    NaN    True  t3_1grcz9   \n",
      "\n",
      "                                                 url distinguished  \n",
      "0  http://www.reddit.com/r/relationship_tips/comm...           NaN  \n",
      "1  http://www.reddit.com/r/relationship_tips/comm...           NaN  \n",
      "2  http://www.reddit.com/r/relationship_tips/comm...           NaN  \n",
      "3  http://www.reddit.com/r/relationship_tips/comm...           NaN  \n",
      "4  http://www.reddit.com/r/relationship_tips/comm...           NaN  \n",
      "\n",
      "[5 rows x 22 columns]\n",
      "Column 'time' not found in the dataset.\n"
     ]
    }
   ],
   "source": [
    "import pandas as pd\n",
    "\n",
    "file_path = 'C:/Users/G good/Desktop/Msc-CS/big d/Lab/Ass1/Lukas/tips.csv'\n",
    "tips = pd.read_csv(file_path)\n",
    "\n",
    "# Print column names\n",
    "print(tips.columns)\n",
    "\n",
    "# Print first few rows of the dataset\n",
    "print(tips.head())\n",
    "\n",
    "# Check occurrences of values in a specific column\n",
    "if \"time\" in tips.columns:\n",
    "    time_counts = tips[\"time\"].value_counts()\n",
    "    print(time_counts)\n",
    "else:\n",
    "    print(\"Column 'time' not found in the dataset.\")\n"
   ]
  },
  {
   "cell_type": "code",
   "execution_count": null,
   "metadata": {},
   "outputs": [],
   "source": []
  },
  {
   "cell_type": "code",
   "execution_count": null,
   "metadata": {},
   "outputs": [],
   "source": [
    "The confusion matrix is used to tell you how many predictions were classified correctly or incorrectly. \n",
    "You are looking at a regression model, which gives you a continous output (not classification).\n",
    "\n",
    "So when you run confusion_matrix(y_test, y_pred) it will throw the ValueError because it expected\n",
    "class predictions, not floating point numbers.\n",
    "\n",
    "Are you trying to predict classes, or really just a number output? \n",
    "If not, then you should not be using the confusion matrix."
   ]
  }
 ],
 "metadata": {
  "kernelspec": {
   "display_name": "Python 3 (ipykernel)",
   "language": "python",
   "name": "python3"
  },
  "language_info": {
   "codemirror_mode": {
    "name": "ipython",
    "version": 3
   },
   "file_extension": ".py",
   "mimetype": "text/x-python",
   "name": "python",
   "nbconvert_exporter": "python",
   "pygments_lexer": "ipython3",
   "version": "3.10.9"
  }
 },
 "nbformat": 4,
 "nbformat_minor": 4
}
